{
 "cells": [
  {
   "cell_type": "markdown",
   "metadata": {
    "colab_type": "text",
    "id": "GBtV3UIHih85"
   },
   "source": [
    "# Import Library"
   ]
  },
  {
   "cell_type": "code",
   "execution_count": 80,
   "metadata": {
    "colab": {
     "base_uri": "https://localhost:8080/",
     "height": 35
    },
    "colab_type": "code",
    "id": "Z1sdCQMUih87",
    "outputId": "4d029ef6-193f-4b4d-a759-56177fe94670"
   },
   "outputs": [],
   "source": [
    "import numpy as np\n",
    "import pandas as pd\n",
    "from scipy.io import loadmat\n",
    "import matplotlib.pyplot as plt\n",
    "%matplotlib inline\n",
    "import collections\n",
    "import sys\n",
    "from sklearn.preprocessing import MinMaxScaler, StandardScaler,  RobustScaler\n",
    "from sklearn.model_selection import train_test_split\n",
    "########################\n",
    "import tensorflow as tf\n",
    "from tensorflow.python.keras.models import Sequential\n",
    "from tensorflow.python.keras.layers import Dense\n",
    "from tensorflow.python.keras.layers import LSTM\n",
    "from tensorflow.python.keras.layers import Dropout\n",
    "from keras.utils import to_categorical\n",
    "\n",
    "import os\n",
    "import zipfile"
   ]
  },
  {
   "cell_type": "code",
   "execution_count": 81,
   "metadata": {
    "colab": {},
    "colab_type": "code",
    "id": "sI9e3QeFqBUU"
   },
   "outputs": [],
   "source": [
    "local_zip = 'only_manual_data.zip'\n",
    "#           '/Users/falesr/Box Sync/NICU Box/Xuefeng Hou NICU Work/Forcasting Paper/Plots/Python data/only_manual_data.zip'\n",
    "zip_ref = zipfile.ZipFile(local_zip, 'r')\n",
    "\n",
    "zip_ref.extractall('.')\n",
    "zip_ref.close()\n",
    "\n",
    "# Define our example directories and files\n",
    "base_dir = '/only_manual_data1'"
   ]
  },
  {
   "cell_type": "markdown",
   "metadata": {
    "colab_type": "text",
    "id": "-o39j3D9ih9B"
   },
   "source": [
    "# Load data"
   ]
  },
  {
   "cell_type": "code",
   "execution_count": 82,
   "metadata": {
    "colab": {},
    "colab_type": "code",
    "id": "ewoP_WCCih9C"
   },
   "outputs": [],
   "source": [
    "third_masimo_logging_data = pd.read_csv('./only_manual_data/08-02-18Masimo_logging.txt',\n",
    "                  sep='\\t')\n",
    "third_spacelab_logging_data = pd.read_csv('./only_manual_data/08-02-18SpaceLabs_logging.txt',\n",
    "                                 sep = '\\t')"
   ]
  },
  {
   "cell_type": "code",
   "execution_count": 84,
   "metadata": {
    "colab": {},
    "colab_type": "code",
    "id": "vm0oekhOih9G"
   },
   "outputs": [],
   "source": [
    "third_masimo_data_M1 = pd.read_csv('./only_manual_data/08-03-2018Analog_SpO2_PR_Masimo_M1.txt',\n",
    "                  sep='\\t')\n",
    "third_spacelab_data_M1 = pd.read_csv('./only_manual_data/08-03-18clinical_SpaceLabs_easy_M1.txt',\n",
    "                                 sep = '\\t')"
   ]
  },
  {
   "cell_type": "code",
   "execution_count": 85,
   "metadata": {
    "colab": {},
    "colab_type": "code",
    "id": "qLglY9Wjq3tG"
   },
   "outputs": [],
   "source": [
    "third_masimo_data_M2 = pd.read_csv('./only_manual_data/08-03-2018Analog_SpO2_PR_Masimo_M2.txt',\n",
    "                  sep='\\t')\n",
    "third_spacelab_data_M2 = pd.read_csv('./only_manual_data/08-03-18clinical_SpaceLabs_easy_M2.txt',\n",
    "                                 sep = '\\t')"
   ]
  },
  {
   "cell_type": "code",
   "execution_count": 86,
   "metadata": {
    "colab": {},
    "colab_type": "code",
    "id": "88fhnyQGih9L"
   },
   "outputs": [],
   "source": [
    "fourth_masimo_logging_data = pd.read_csv('./only_manual_data/08-18-18Masimo_logging.txt',\n",
    "                  sep='\\t')\n",
    "fourth_spacelab_logging_data = pd.read_csv('./only_manual_data/08-18-18SpaceLabs_logging.txt',\n",
    "                                 sep = '\\t')"
   ]
  },
  {
   "cell_type": "code",
   "execution_count": 87,
   "metadata": {
    "colab": {},
    "colab_type": "code",
    "id": "eMCSWpI5ih9Q"
   },
   "outputs": [],
   "source": [
    "fourth_masimo_data_M1 = pd.read_csv('./only_manual_data/08-19-2018Analog_SpO2_PR_Masimo_M1.txt',\n",
    "                  sep='\\t')\n",
    "fourth_spacelab_data_M1 = pd.read_csv('./only_manual_data/08-19-18clinical_SpaceLabs_easy_M1.txt',\n",
    "                                 sep = '\\t')"
   ]
  },
  {
   "cell_type": "code",
   "execution_count": 88,
   "metadata": {
    "colab": {},
    "colab_type": "code",
    "id": "XxuuSrVnrUY9"
   },
   "outputs": [],
   "source": [
    "fourth_masimo_data_M2 = pd.read_csv('./only_manual_data/08-19-2018Analog_SpO2_PR_Masimo_M2.txt',\n",
    "                  sep='\\t')\n",
    "fourth_spacelab_data_M2 = pd.read_csv('./only_manual_data/08-19-18clinical_SpaceLabs_easy_M2.txt',\n",
    "                                 sep = '\\t')"
   ]
  },
  {
   "cell_type": "code",
   "execution_count": 89,
   "metadata": {
    "colab": {},
    "colab_type": "code",
    "id": "1eTe7SXKih9T"
   },
   "outputs": [],
   "source": [
    "fifth_masimo_logging_data = pd.read_csv('./only_manual_data/08-30-18Masimo_logging.txt',\n",
    "                  sep='\\t')\n",
    "fifth_spacelab_logging_data = pd.read_csv('./only_manual_data/08-30-18SpaceLabs_logging.txt',\n",
    "                                 sep = '\\t')"
   ]
  },
  {
   "cell_type": "code",
   "execution_count": 90,
   "metadata": {
    "colab": {},
    "colab_type": "code",
    "id": "Q9kdxCtFih9X"
   },
   "outputs": [],
   "source": [
    "fifth_masimo_data_M1 = pd.read_csv('./only_manual_data/08-31-2018Analog_SpO2_PR_Masimo_M1.txt',\n",
    "                  sep='\\t')\n",
    "fifth_spacelab_data_M1 = pd.read_csv('./only_manual_data/08-31-18clinical_SpaceLabs_easy_M1.txt',\n",
    "                                 sep = '\\t')"
   ]
  },
  {
   "cell_type": "code",
   "execution_count": 91,
   "metadata": {
    "colab": {},
    "colab_type": "code",
    "id": "u9hoi5idrsY4"
   },
   "outputs": [],
   "source": [
    "fifth_masimo_data_M2 = pd.read_csv('./only_manual_data/08-31-2018Analog_SpO2_PR_Masimo_M2.txt',\n",
    "                  sep='\\t')\n",
    "fifth_spacelab_data_M2 = pd.read_csv('./only_manual_data/08-31-18clinical_SpaceLabs_easy_M2.txt',\n",
    "                                 sep = '\\t')"
   ]
  },
  {
   "cell_type": "code",
   "execution_count": 92,
   "metadata": {
    "colab": {},
    "colab_type": "code",
    "id": "h8AX7R0Lih9a"
   },
   "outputs": [],
   "source": [
    "sixth_masimo_logging_data = pd.read_csv('./only_manual_data/09-25-18Masimo_logging.txt',\n",
    "                  sep='\\t')\n",
    "sixth_spacelab_logging_data = pd.read_csv('./only_manual_data/09-25-18SpaceLabs_logging.txt',\n",
    "                                 sep = '\\t')"
   ]
  },
  {
   "cell_type": "code",
   "execution_count": 93,
   "metadata": {
    "colab": {},
    "colab_type": "code",
    "id": "GWVbG_gqih9d"
   },
   "outputs": [],
   "source": [
    "sixth_masimo_data_M1 = pd.read_csv('./only_manual_data/09-26-2018Analog_SpO2_PR_Masimo_M1.txt',\n",
    "                  sep='\\t')\n",
    "sixth_spacelab_data_M1 = pd.read_csv('./only_manual_data/09-26-18clinical_SpaceLabs_easy_M1.txt',\n",
    "                                 sep = '\\t')"
   ]
  },
  {
   "cell_type": "code",
   "execution_count": 37,
   "metadata": {
    "colab": {},
    "colab_type": "code",
    "id": "SdcAmi23r9qq"
   },
   "outputs": [],
   "source": [
    "sixth_masimo_data_M2 = pd.read_csv('./only_manual_data/09-26-2018Analog_SpO2_PR_Masimo_M2.txt',\n",
    "                  sep='\\t')\n",
    "sixth_spacelab_data_M2 = pd.read_csv('./only_manual_data/09-26-18clinical_SpaceLabs_easy_M2.txt',\n",
    "                                 sep = '\\t')"
   ]
  },
  {
   "cell_type": "markdown",
   "metadata": {
    "colab_type": "text",
    "id": "3N37tgU6ih9h"
   },
   "source": [
    "# Define data manipulation pipeline function"
   ]
  },
  {
   "cell_type": "code",
   "execution_count": 94,
   "metadata": {
    "colab": {},
    "colab_type": "code",
    "id": "YNeE0PNNih9i"
   },
   "outputs": [],
   "source": [
    "def data_manipulation(masimo_data, \n",
    "                      spacelab_data, \n",
    "                      upperlimit, \n",
    "                      lowerlimit, \n",
    "                      long = 60,\n",
    "                      n = 2,\n",
    "                      m = 1,\n",
    "                      N_train = 'all',\n",
    "                      strategy = 'strategy1'):\n",
    "    \"\"\"\n",
    "    Data manipulation function, to clean raw clinical data, construct the ready-to-use data struction.\n",
    "    masimo_data: data file logged from Masimo\n",
    "    spacelab_data: data file logged from spacelab\n",
    "    upperlimit: SpO2 target range upper limit\n",
    "    lowerlimit: SpO2 target range lower limit\n",
    "    long: the size of each small piece after segmenting the whole series\n",
    "    n: Number of pieces of data used for making a alarm forecasting, default is n = 2.\n",
    "    m: Number of windows in the future the forecasting is made for, this is also the step size of windows slide to the future, default is m = 1.\n",
    "    N_train: the number of pieces used as training dataset, default is all pieces, N_train = N_piece\n",
    "    strategy: data labelling strategy. 'strategy1' is beyond limit for 10 seconds; 'strategy2' is 50 SatSeconds. By default,  strategy = 'strategy1'\n",
    "    \n",
    "    \"\"\"\n",
    "    # Get each variables from raw datasets\n",
    "    ANLG_time = np.array(masimo_data['ANLG_time'])\n",
    "    ANLG_MSM_SpO2 = np.array(masimo_data['ANLG_MSM_SpO2'])\n",
    "    ANLG_MSM_PR = np.array(masimo_data['ANLG_MSM_PR'])\n",
    "\n",
    "    spacelab_time = np.array(spacelab_data['C_S_time'])\n",
    "    spacelab_FiO2 = np.array(spacelab_data['C_S_FiO2'])\n",
    "    spacelab_HR = np.array(spacelab_data['C_S_HR'])\n",
    "    spacelab_RR = np.array(spacelab_data['C_S_RR'])\n",
    "    \n",
    "    #Interpolate the missing points\n",
    "    def missing_elements(L):\n",
    "        start, end = L[0], L[-1]\n",
    "        return sorted(set(range(start, end + 1)).difference(L))\n",
    "    ANLG_missing_time = missing_elements(ANLG_time)\n",
    "    spacelab_missing_time = missing_elements(spacelab_time)\n",
    "    \n",
    "    # search for duplicates\n",
    "    aa = set(item for item, count in collections.Counter(spacelab_time).items() if count > 1)\n",
    "    if len(aa) != 0:\n",
    "        sys.exit('There are duplicated data, please check the raw data file and remove the duplicated ones!')\n",
    "    \n",
    "    for i in ANLG_missing_time:\n",
    "        ANLG_MSM_SpO2 = np.insert(ANLG_MSM_SpO2,i,ANLG_MSM_SpO2[i-1])\n",
    "        ANLG_MSM_PR = np.insert(ANLG_MSM_PR,i,ANLG_MSM_PR[i-1])\n",
    "    size_ANLG = len(ANLG_MSM_PR)\n",
    "    \n",
    "    for i in spacelab_missing_time:\n",
    "        spacelab_FiO2 = np.insert(spacelab_FiO2,i,spacelab_FiO2[i-1])\n",
    "        spacelab_HR = np.insert(spacelab_HR,i,spacelab_HR[i-1])\n",
    "        spacelab_RR = np.insert(spacelab_RR,i,spacelab_RR[i-1])\n",
    "    size_spacelab = len(spacelab_FiO2)\n",
    "    \n",
    "    size = min(size_ANLG,size_spacelab)\n",
    "    \n",
    "    # Get the variables interpolated and masimo data and spacelab data share the same size\n",
    "    ANLG_MSM_SpO2 = ANLG_MSM_SpO2[0:size]\n",
    "    ANLG_MSM_PR = ANLG_MSM_PR[0:size]\n",
    "    spacelab_FiO2 = spacelab_FiO2[0:size]\n",
    "    spacelab_HR = spacelab_HR[0:size]\n",
    "    spacelab_RR = spacelab_RR[0:size]\n",
    "    \n",
    "    # Correct SpO2 based on Heart Rate and Pulse Rate disagreement\n",
    "    #SpO2 = np.zeros(size)\n",
    "    #SpO2[0] = ANLG_MSM_SpO2[0]\n",
    "\n",
    "    #for i in np.arange(1, size, 1):\n",
    "    #    if abs(spacelab_HR[i]-ANLG_MSM_PR[i]) > 5:\n",
    "    #        SpO2[i] = SpO2[i-1]\n",
    "    #    else:\n",
    "    #        SpO2[i] = ANLG_MSM_SpO2[i]\n",
    "    \n",
    "    SpO2 = ANLG_MSM_SpO2.copy()\n",
    "    # Construct Data Frame\n",
    "    PR = ANLG_MSM_PR.copy()\n",
    "    FiO2 = spacelab_FiO2.copy()\n",
    "    RR = spacelab_RR.copy()\n",
    "    dataframe = pd.DataFrame({'SpO2':SpO2, 'PR':PR, 'FiO2':FiO2, 'RR':RR})\n",
    "    \n",
    "    # Label each data point with alarm status\n",
    "    if strategy == 'strategy1':\n",
    "        u_count = 0\n",
    "        l_count = 0\n",
    "        AL = np.zeros(size)\n",
    "        for i in np.arange(0,size,1):\n",
    "            if dataframe['SpO2'][i] < lowerlimit:\n",
    "                l_count += 1\n",
    "                u_count = 0\n",
    "                if l_count >= 10:\n",
    "                    AL[i] = -1\n",
    "                else:\n",
    "                    AL[i] = 0\n",
    "            elif dataframe['SpO2'][i] > upperlimit:\n",
    "                u_count += 1\n",
    "                l_count = 0\n",
    "                if u_count >= 10:\n",
    "                    AL[i] = 1\n",
    "                else:\n",
    "                    AL[i] = 0\n",
    "    elif strategy == 'strategy2':\n",
    "        u_count = 0\n",
    "        l_count = 0\n",
    "        AL = np.zeros(size)\n",
    "        for i in np.arange(0,size,1):\n",
    "            if dataframe['SpO2'][i] < lowerlimit:\n",
    "                dif_l_count = dataframe['SpO2'][i] - lowerlimit\n",
    "                l_count = l_count + dif_l_count\n",
    "                u_count = 0\n",
    "                if l_count <= -50:\n",
    "                    AL[i] = -1\n",
    "                else:\n",
    "                    AL[i] = 0\n",
    "            elif dataframe['SpO2'][i] > upperlimit:\n",
    "                dif_u_count = dataframe['SpO2'][i] - upperlimit\n",
    "                u_count = u_count + dif_u_count\n",
    "                l_count = 0\n",
    "                if u_count >= 50:\n",
    "                    AL[i] = 1\n",
    "                else:\n",
    "                    AL[i] = 0\n",
    "                    \n",
    "    # Concatenate dataframe with AL(alarm label)\n",
    "    AL = pd.DataFrame({'AL':AL})\n",
    "    data_AL_df = pd.concat([dataframe, AL],axis=1)\n",
    "    \n",
    "    # Piecewise the AL\n",
    "    N_piece = len(data_AL_df['SpO2'])//long\n",
    "    last_piece = len(data_AL_df['SpO2'])%long\n",
    "    x_axis = np.arange(0,long,1)\n",
    "    #SpO2_piece = np.zeros((N_piece,long))\n",
    "    #AL_piece = np.zeros((N_piece,long))\n",
    "    #for i in np.arange(0,N_piece,1):\n",
    "            #SpO2_piece[i,] = data_AL_df['SpO2'][long*i:long*(i+1)]\n",
    "            #AL_piece[i,] = data_AL_df['AL'][long*i:long*(i+1)]\n",
    "            \n",
    "    # Add alarm label to piecewise data\n",
    "    def label_piecewise_data(alarm_piece):\n",
    "        uni_alarm = np.unique(alarm_piece)\n",
    "        if len(uni_alarm) == 1:\n",
    "            LD = uni_alarm[0]\n",
    "        elif len(uni_alarm) == 2:\n",
    "            if uni_alarm[0] == -1 and uni_alarm[1] == 0:\n",
    "                LD = uni_alarm[0]\n",
    "            elif uni_alarm[0] == 0 and uni_alarm[1] == 1:\n",
    "                LD = uni_alarm[1]\n",
    "        else:\n",
    "            LD = alarm_piece[np.max(np.nonzero(alarm_piece))]\n",
    "        return LD\n",
    "    \n",
    "    #LD = np.array([label_piecewise_data(p) for p in AL_piece])\n",
    "    #LD = LD.reshape((N_piece,1))\n",
    "    \n",
    "    # Prepare training dataset\n",
    "    training_feature = data_AL_df.iloc[:,0:4].values\n",
    "    \n",
    "    # Feature scaling\n",
    "    sc = MinMaxScaler(feature_range = (0, 1)) # scale between 0 and 1\n",
    "    #sc = StandardScaler()\n",
    "    training_feature_scaled = sc.fit_transform(training_feature)\n",
    "    \n",
    "    # Creating a data structure with n small windows as inputs and 1 output(prediction of following m small windows)\n",
    "    X_train = []\n",
    "    y_train = []\n",
    "    AL_piece = []\n",
    "\n",
    "    if N_train == 'all':\n",
    "        for i in np.arange(n,N_piece,m): # N_piece = 729, use 700 pieces for training\n",
    "            X_train.append(training_feature[(i-n)*long:i*long, 0:4])\n",
    "            AL_piece.append(AL.values[i*long:(i+m)*long, 0])\n",
    "            #y_train.append(LD[i, 0])\n",
    "        y_train = np.array([label_piecewise_data(p) for p in AL_piece])\n",
    "        #y_train = y_train.reshape((N_piece,1))\n",
    "    else:\n",
    "        for i in np.arange(n,N_train,m): \n",
    "            X_train.append(training_feature[(i-n)*long:i*long, 0:4])\n",
    "            AL_piece.append(AL.values[i*long:(i+m)*long, 0])\n",
    "            #y_train.append(LD[i, 0])\n",
    "        y_train = np.array([label_piecewise_data(p) for p in AL_piece])\n",
    "        #y_train = y_train.reshape((N_train,1))\n",
    "\n",
    "    X_train = np.array(X_train)\n",
    "    y_train = np.array(y_train)\n",
    "\n",
    "    # Reshaping\n",
    "    X_train = np.reshape(X_train, (X_train.shape[0], X_train.shape[1], 4))\n",
    "    \n",
    "    return X_train, y_train"
   ]
  },
  {
   "cell_type": "markdown",
   "metadata": {
    "colab_type": "text",
    "id": "veGAslIHih9l"
   },
   "source": [
    "# Function that process all datasets"
   ]
  },
  {
   "cell_type": "code",
   "execution_count": 95,
   "metadata": {
    "colab": {},
    "colab_type": "code",
    "id": "-5wT20afih9m"
   },
   "outputs": [],
   "source": [
    "def combine_datasets(piece_size = 60,\n",
    "                    num_piece_pred = 2,\n",
    "                    num_piece_resp = 1,\n",
    "                    label_strategy = 'strategy1'):\n",
    "    # The third patient data\n",
    "    third_logging_X_train, third_logging_y_train = data_manipulation(masimo_data = third_masimo_logging_data, \n",
    "                                      spacelab_data = third_spacelab_logging_data, \n",
    "                                      upperlimit = 99, \n",
    "                                      lowerlimit = 91, \n",
    "                                      long = piece_size,\n",
    "                                      n = num_piece_pred,\n",
    "                                      m = num_piece_resp,\n",
    "                                      N_train = 'all',\n",
    "                                      strategy = label_strategy)\n",
    "    \n",
    "    third_X_train_M1, third_y_train_M1 = data_manipulation(masimo_data = third_masimo_data_M1, \n",
    "                                      spacelab_data = third_spacelab_data_M1, \n",
    "                                      upperlimit = 99, \n",
    "                                      lowerlimit = 91, \n",
    "                                      long = piece_size,\n",
    "                                      n = num_piece_pred,\n",
    "                                      m = num_piece_resp,\n",
    "                                      N_train = 'all',\n",
    "                                      strategy = label_strategy)\n",
    "    \n",
    "    third_X_train_M2, third_y_train_M2 = data_manipulation(masimo_data = third_masimo_data_M2, \n",
    "                                      spacelab_data = third_spacelab_data_M2, \n",
    "                                      upperlimit = 99, \n",
    "                                      lowerlimit = 91, \n",
    "                                      long = piece_size,\n",
    "                                      n = num_piece_pred,\n",
    "                                      m = num_piece_resp,\n",
    "                                      N_train = 'all',\n",
    "                                      strategy = label_strategy)\n",
    "    # The fourth patient data\n",
    "    fourth_logging_X_train, fourth_logging_y_train = data_manipulation(masimo_data = fourth_masimo_logging_data, \n",
    "                                      spacelab_data = fourth_spacelab_logging_data, \n",
    "                                      upperlimit = 99, \n",
    "                                      lowerlimit = 91, \n",
    "                                      long = piece_size,\n",
    "                                      n = num_piece_pred,\n",
    "                                      m = num_piece_resp,\n",
    "                                      N_train = 'all',\n",
    "                                      strategy = label_strategy)\n",
    "    \n",
    "    fourth_X_train_M1, fourth_y_train_M1 = data_manipulation(masimo_data = fourth_masimo_data_M1, \n",
    "                                      spacelab_data = fourth_spacelab_data_M1, \n",
    "                                      upperlimit = 99, \n",
    "                                      lowerlimit = 91, \n",
    "                                      long = piece_size,\n",
    "                                      n = num_piece_pred,\n",
    "                                      m = num_piece_resp,\n",
    "                                      N_train = 'all',\n",
    "                                      strategy = label_strategy)\n",
    "    \n",
    "    fourth_X_train_M2, fourth_y_train_M2 = data_manipulation(masimo_data = fourth_masimo_data_M2, \n",
    "                                      spacelab_data = fourth_spacelab_data_M2, \n",
    "                                      upperlimit = 99, \n",
    "                                      lowerlimit = 91, \n",
    "                                      long = piece_size,\n",
    "                                      n = num_piece_pred,\n",
    "                                      m = num_piece_resp,\n",
    "                                      N_train = 'all',\n",
    "                                      strategy = label_strategy)\n",
    "    # The fifth patient data\n",
    "    fifth_logging_X_train, fifth_logging_y_train = data_manipulation(masimo_data = fifth_masimo_logging_data, \n",
    "                                      spacelab_data = fifth_spacelab_logging_data, \n",
    "                                      upperlimit = 99, \n",
    "                                      lowerlimit = 91, \n",
    "                                      long = piece_size,\n",
    "                                      n = num_piece_pred,\n",
    "                                      m = num_piece_resp,\n",
    "                                      N_train = 'all',\n",
    "                                      strategy = label_strategy)\n",
    "    \n",
    "    fifth_X_train_M1, fifth_y_train_M1 = data_manipulation(masimo_data = fifth_masimo_data_M1, \n",
    "                                      spacelab_data = fifth_spacelab_data_M1, \n",
    "                                      upperlimit = 99, \n",
    "                                      lowerlimit = 91, \n",
    "                                      long = piece_size,\n",
    "                                      n = num_piece_pred,\n",
    "                                      m = num_piece_resp,\n",
    "                                      N_train = 'all',\n",
    "                                      strategy = label_strategy)\n",
    "    \n",
    "    fifth_X_train_M2, fifth_y_train_M2 = data_manipulation(masimo_data = fifth_masimo_data_M2, \n",
    "                                      spacelab_data = fifth_spacelab_data_M2, \n",
    "                                      upperlimit = 99, \n",
    "                                      lowerlimit = 91, \n",
    "                                      long = piece_size,\n",
    "                                      n = num_piece_pred,\n",
    "                                      m = num_piece_resp,\n",
    "                                      N_train = 'all',\n",
    "                                      strategy = label_strategy)\n",
    "    # The sixth patient data\n",
    "    sixth_logging_X_train, sixth_logging_y_train = data_manipulation(masimo_data = sixth_masimo_logging_data, \n",
    "                                      spacelab_data = sixth_spacelab_logging_data, \n",
    "                                      upperlimit = 95, \n",
    "                                      lowerlimit = 87, \n",
    "                                      long = piece_size,\n",
    "                                      n = num_piece_pred,\n",
    "                                      m = num_piece_resp,\n",
    "                                      N_train = 'all',\n",
    "                                      strategy = label_strategy)\n",
    "    sixth_X_train_M1, sixth_y_train_M1 = data_manipulation(masimo_data = sixth_masimo_data_M1, \n",
    "                                      spacelab_data = sixth_spacelab_data_M1, \n",
    "                                      upperlimit = 95, \n",
    "                                      lowerlimit = 87, \n",
    "                                      long = piece_size,\n",
    "                                      n = num_piece_pred,\n",
    "                                      m = num_piece_resp,\n",
    "                                      N_train = 'all',\n",
    "                                      strategy = label_strategy)\n",
    "    \n",
    "    sixth_X_train_M2, sixth_y_train_M2 = data_manipulation(masimo_data = sixth_masimo_data_M2, \n",
    "                                      spacelab_data = sixth_spacelab_data_M2, \n",
    "                                      upperlimit = 95, \n",
    "                                      lowerlimit = 87, \n",
    "                                      long = piece_size,\n",
    "                                      n = num_piece_pred,\n",
    "                                      m = num_piece_resp,\n",
    "                                      N_train = 'all',\n",
    "                                      strategy = label_strategy)\n",
    "    # Concatenate all training datasets\n",
    "    X_all = np.concatenate((third_logging_X_train,third_X_train_M1,third_X_train_M2,fourth_logging_X_train,fourth_X_train_M1,fourth_X_train_M2,fifth_logging_X_train,fifth_X_train_M1,fifth_X_train_M2))\n",
    "    y_all = np.concatenate((third_logging_y_train,third_y_train_M1,third_y_train_M2,fourth_logging_y_train,fourth_y_train_M1,fourth_y_train_M2,fifth_logging_y_train,fifth_y_train_M1,fifth_y_train_M2))\n",
    "    \n",
    "    return X_all, y_all\n"
   ]
  },
  {
   "cell_type": "code",
   "execution_count": 96,
   "metadata": {
    "colab": {},
    "colab_type": "code",
    "id": "UOtaDeTUih9q"
   },
   "outputs": [],
   "source": [
    "X_all, y_all = combine_datasets(piece_size = 60,\n",
    "                                    num_piece_pred = 2,\n",
    "                                    num_piece_resp = 1,\n",
    "                                    label_strategy = 'strategy1')"
   ]
  },
  {
   "cell_type": "code",
   "execution_count": 97,
   "metadata": {
    "colab": {
     "base_uri": "https://localhost:8080/",
     "height": 35
    },
    "colab_type": "code",
    "id": "gZcSPoCLih9t",
    "outputId": "fd4d5809-eeed-4800-a528-fde5e13d4a19"
   },
   "outputs": [
    {
     "data": {
      "text/plain": [
       "(3466, 120, 4)"
      ]
     },
     "execution_count": 97,
     "metadata": {},
     "output_type": "execute_result"
    }
   ],
   "source": [
    "X_all.shape"
   ]
  },
  {
   "cell_type": "code",
   "execution_count": 98,
   "metadata": {
    "colab": {
     "base_uri": "https://localhost:8080/",
     "height": 35
    },
    "colab_type": "code",
    "id": "-lh9O24LUb6S",
    "outputId": "c315733e-8303-4bee-9fa3-26f28c150c00"
   },
   "outputs": [
    {
     "data": {
      "text/plain": [
       "899.0"
      ]
     },
     "execution_count": 98,
     "metadata": {},
     "output_type": "execute_result"
    }
   ],
   "source": [
    "sum(y_all[y_all == 1])"
   ]
  },
  {
   "cell_type": "code",
   "execution_count": 99,
   "metadata": {
    "colab": {
     "base_uri": "https://localhost:8080/",
     "height": 35
    },
    "colab_type": "code",
    "id": "R0rBxQkQUr2G",
    "outputId": "fff2f7c0-1b44-4291-c01c-45ee37d47001"
   },
   "outputs": [
    {
     "data": {
      "text/plain": [
       "-1115.0"
      ]
     },
     "execution_count": 99,
     "metadata": {},
     "output_type": "execute_result"
    }
   ],
   "source": [
    "sum(y_all[y_all == -1])"
   ]
  },
  {
   "cell_type": "code",
   "execution_count": 100,
   "metadata": {
    "colab": {
     "base_uri": "https://localhost:8080/",
     "height": 35
    },
    "colab_type": "code",
    "id": "8Sx5BtYSYIfj",
    "outputId": "98dfb396-bcc3-4fe1-cf97-066eadafbe42"
   },
   "outputs": [
    {
     "data": {
      "text/plain": [
       "1452"
      ]
     },
     "execution_count": 100,
     "metadata": {},
     "output_type": "execute_result"
    }
   ],
   "source": [
    "np.count_nonzero(y_all==0)"
   ]
  },
  {
   "cell_type": "code",
   "execution_count": 101,
   "metadata": {
    "colab": {},
    "colab_type": "code",
    "id": "zSL2hCJGih9x"
   },
   "outputs": [],
   "source": [
    "# Split the data\n",
    "X_train, X_test, y_train, y_test = train_test_split(X_all, y_all, test_size=0.15, random_state = 5, shuffle= True)"
   ]
  },
  {
   "cell_type": "code",
   "execution_count": 102,
   "metadata": {
    "colab": {
     "base_uri": "https://localhost:8080/",
     "height": 35
    },
    "colab_type": "code",
    "id": "LmQxKyxqih90",
    "outputId": "f7446d02-9758-4815-f08d-3421706e1a0c"
   },
   "outputs": [
    {
     "data": {
      "text/plain": [
       "(2946, 120, 4)"
      ]
     },
     "execution_count": 102,
     "metadata": {},
     "output_type": "execute_result"
    }
   ],
   "source": [
    "X_train.shape"
   ]
  },
  {
   "cell_type": "code",
   "execution_count": 103,
   "metadata": {
    "colab": {
     "base_uri": "https://localhost:8080/",
     "height": 35
    },
    "colab_type": "code",
    "id": "luGEUF7aih93",
    "outputId": "4330ba70-a12f-4262-abdf-0ac549110e6c"
   },
   "outputs": [
    {
     "data": {
      "text/plain": [
       "(520, 120, 4)"
      ]
     },
     "execution_count": 103,
     "metadata": {},
     "output_type": "execute_result"
    }
   ],
   "source": [
    "X_test.shape"
   ]
  },
  {
   "cell_type": "code",
   "execution_count": 104,
   "metadata": {
    "colab": {
     "base_uri": "https://localhost:8080/",
     "height": 35
    },
    "colab_type": "code",
    "id": "kOSh1lTvcdLR",
    "outputId": "2efb65af-e405-40f1-ad2e-03ddf91f8e19"
   },
   "outputs": [
    {
     "data": {
      "text/plain": [
       "765.0"
      ]
     },
     "execution_count": 104,
     "metadata": {},
     "output_type": "execute_result"
    }
   ],
   "source": [
    "sum(y_train[y_train == 1])"
   ]
  },
  {
   "cell_type": "code",
   "execution_count": 105,
   "metadata": {
    "colab": {
     "base_uri": "https://localhost:8080/",
     "height": 35
    },
    "colab_type": "code",
    "id": "5VnwIdFAckaX",
    "outputId": "5b0f9c77-065b-4a97-8e49-7b1046e90057"
   },
   "outputs": [
    {
     "data": {
      "text/plain": [
       "-938.0"
      ]
     },
     "execution_count": 105,
     "metadata": {},
     "output_type": "execute_result"
    }
   ],
   "source": [
    "sum(y_train[y_train == -1])"
   ]
  },
  {
   "cell_type": "code",
   "execution_count": 106,
   "metadata": {
    "colab": {
     "base_uri": "https://localhost:8080/",
     "height": 35
    },
    "colab_type": "code",
    "id": "6BBxRla4cndY",
    "outputId": "6f4356fe-e544-4a3e-9176-22920178adcf"
   },
   "outputs": [
    {
     "data": {
      "text/plain": [
       "1243"
      ]
     },
     "execution_count": 106,
     "metadata": {},
     "output_type": "execute_result"
    }
   ],
   "source": [
    "np.count_nonzero(y_train==0)"
   ]
  },
  {
   "cell_type": "code",
   "execution_count": 107,
   "metadata": {
    "colab": {
     "base_uri": "https://localhost:8080/",
     "height": 35
    },
    "colab_type": "code",
    "id": "wth1JW-zcttJ",
    "outputId": "8df7cf08-9904-443e-89d3-7f3851de6b85"
   },
   "outputs": [
    {
     "data": {
      "text/plain": [
       "134.0"
      ]
     },
     "execution_count": 107,
     "metadata": {},
     "output_type": "execute_result"
    }
   ],
   "source": [
    "sum(y_test[y_test == 1])"
   ]
  },
  {
   "cell_type": "code",
   "execution_count": 108,
   "metadata": {
    "colab": {
     "base_uri": "https://localhost:8080/",
     "height": 35
    },
    "colab_type": "code",
    "id": "Ke1DoI1UcvJv",
    "outputId": "98473c51-6d2d-4959-c232-738f1eec997b"
   },
   "outputs": [
    {
     "data": {
      "text/plain": [
       "-177.0"
      ]
     },
     "execution_count": 108,
     "metadata": {},
     "output_type": "execute_result"
    }
   ],
   "source": [
    "sum(y_test[y_test == -1])"
   ]
  },
  {
   "cell_type": "code",
   "execution_count": 109,
   "metadata": {
    "colab": {
     "base_uri": "https://localhost:8080/",
     "height": 35
    },
    "colab_type": "code",
    "id": "r3DH-QlLebj-",
    "outputId": "7a93bad6-6d30-4654-80d1-c70d10ce885f"
   },
   "outputs": [
    {
     "data": {
      "text/plain": [
       "209"
      ]
     },
     "execution_count": 109,
     "metadata": {},
     "output_type": "execute_result"
    }
   ],
   "source": [
    "np.count_nonzero(y_test==0)"
   ]
  },
  {
   "cell_type": "markdown",
   "metadata": {
    "colab_type": "text",
    "id": "soYPaEvMih96"
   },
   "source": [
    "# Define building RNN pipeline function"
   ]
  },
  {
   "cell_type": "code",
   "execution_count": null,
   "metadata": {
    "colab": {},
    "colab_type": "code",
    "id": "qSnHmgb_ih97"
   },
   "outputs": [],
   "source": [
    "def build_LSTM(X_train,\n",
    "              y_train,\n",
    "              num_lstm_layer = 1,\n",
    "              dropout_rate = 0.2,\n",
    "              num_units = [64],\n",
    "              num_epochs = 10,\n",
    "              num_batches = 32,\n",
    "              percent_validation = 0.2):\n",
    "    \"\"\"\n",
    "    build_LSTM function is designed to construct the Long-Short-Term-Memory neural networks.\n",
    "    \n",
    "    X_train: The input features of training dataset\n",
    "    y_train: The output labels of training dataset\n",
    "    num_lstm_layer: The number of LSTM neural networks layers, default is num_lstm_layer = 1\n",
    "    dropout_rate: To reduce over-fitting, some neurons will be dropped out, default is dropout_rate = 0.2\n",
    "    num_units: The number of neurons for each layer, the input here should be a vector, the length of the vector should match the number of layers. Default is num_units = [64]\n",
    "    num_epochs: The number of epochs, the number of complete passes through the training dataset\n",
    "    num_batches: The batch size, the number of samples processed before the model is updated\n",
    "    \"\"\"\n",
    "    class myCallback(tf.keras.callbacks.Callback):\n",
    "      def on_epoch_end(self, epoch, logs={}):\n",
    "        if(logs.get('val_accuracy') > 0.75):\n",
    "          if(logs.get('accuracy') > 0.76):\n",
    "            print(\"\\nReached 75% accuracy for validation, so cancelling training!\")\n",
    "            self.model.stop_training = True\n",
    "\n",
    "    callbacks = myCallback()\n",
    "    \n",
    "    # one-hot encoding the y_train data\n",
    "    categorical_y_train = to_categorical(y_train, num_classes=3)\n",
    "    \n",
    "    # Initialising the RNN\n",
    "    classifier = Sequential()\n",
    "\n",
    "    # Adding the first LSTM layer and some Dropout regularisation\n",
    "    classifier.add(LSTM(units = num_units[0], return_sequences = True, activation = 'tanh', input_shape = (X_train.shape[1], 4))) \n",
    "    # return_sequences = True because we will stack several LSTM layers, input_shape only for first layer, and is the last two dimensions of training set\n",
    "    classifier.add(Dropout(dropout_rate))\n",
    "    \n",
    "    if num_lstm_layer == 0:\n",
    "        sys.exit('The number of LSTM layers is at least one!')\n",
    "    \n",
    "    if num_lstm_layer == 2:\n",
    "        # Adding a second LSTM layer and some Dropout regularisation\n",
    "        classifier.add(LSTM(units = num_units[1], activation = 'tanh'))\n",
    "    elif num_lstm_layer > 2:\n",
    "        classifier.add(LSTM(units = num_units[1], return_sequences = True, activation = 'tanh'))\n",
    "    classifier.add(Dropout(dropout_rate))\n",
    "    \n",
    "    if num_lstm_layer == 3:\n",
    "        # Adding a third LSTM layer and some Dropout regularisation\n",
    "        classifier.add(LSTM(units = num_units[2], activation = 'tanh'))\n",
    "    elif num_lstm_layer > 3:\n",
    "        classifier.add(LSTM(units = num_units[2], return_sequences = True, activation = 'tanh'))\n",
    "    classifier.add(Dropout(dropout_rate))\n",
    "\n",
    "    if num_lstm_layer == 4:\n",
    "        # Adding a third LSTM layer and some Dropout regularisation\n",
    "        classifier.add(LSTM(units = num_units[3], activation = 'tanh'))\n",
    "    elif num_lstm_layer > 4:\n",
    "        classifier.add(LSTM(units = num_units[3], return_sequences = True, activation = 'tanh'))\n",
    "    classifier.add(Dropout(dropout_rate))\n",
    "\n",
    "    if num_lstm_layer == 5:\n",
    "        # Adding a third LSTM layer and some Dropout regularisation\n",
    "        classifier.add(LSTM(units = num_units[4], activation = 'tanh'))\n",
    "    elif num_lstm_layer > 5:\n",
    "        classifier.add(LSTM(units = num_units[4], return_sequences = True, activation = 'tanh'))\n",
    "    classifier.add(Dropout(dropout_rate))\n",
    "\n",
    "    if num_lstm_layer == 6:\n",
    "        # Adding a third LSTM layer and some Dropout regularisation\n",
    "        classifier.add(LSTM(units = num_units[5], activation = 'tanh'))\n",
    "    elif num_lstm_layer > 6:\n",
    "        classifier.add(LSTM(units = num_units[5], return_sequences = True, activation = 'tanh'))\n",
    "    classifier.add(Dropout(dropout_rate))\n",
    "\n",
    "    if num_lstm_layer == 7:\n",
    "        # Adding a fourth LSTM layer and some Dropout regularisation\n",
    "        classifier.add(LSTM(units = num_units[6], activation = 'tanh'))\n",
    "    classifier.add(Dropout(dropout_rate))\n",
    "\n",
    "    if num_lstm_layer > 7:\n",
    "        sys.exit('The number of LSTM layers is designed at most 7. Want more layers, please edit the build_LSTM function!')\n",
    "        \n",
    "    # Adding the output layer\n",
    "    classifier.add(Dense(units = 3, activation='softmax'))\n",
    "\n",
    "    # Compiling the RNN\n",
    "    classifier.compile(optimizer = 'adam', loss = 'categorical_crossentropy', metrics=['accuracy'])\n",
    "    \n",
    "    # Fitting the RNN to the Training set\n",
    "    classifier.fit(X_train, categorical_y_train, epochs = num_epochs, batch_size = num_batches, validation_split = percent_validation, callbacks=[callbacks])\n",
    "    \n",
    "    return classifier\n"
   ]
  },
  {
   "cell_type": "code",
   "execution_count": null,
   "metadata": {
    "colab": {
     "base_uri": "https://localhost:8080/",
     "height": 1000
    },
    "colab_type": "code",
    "id": "uLg0RuEwih9_",
    "outputId": "c9a33a1c-4eec-4220-d23d-1c6e1682a39e",
    "scrolled": true
   },
   "outputs": [
    {
     "name": "stdout",
     "output_type": "stream",
     "text": [
      "Epoch 1/400\n",
      "37/37 [==============================] - 4s 110ms/step - loss: 1.0213 - accuracy: 0.4648 - val_loss: 0.9264 - val_accuracy: 0.5203\n",
      "Epoch 2/400\n",
      "37/37 [==============================] - 2s 63ms/step - loss: 0.9429 - accuracy: 0.5110 - val_loss: 0.8948 - val_accuracy: 0.5678\n",
      "Epoch 3/400\n",
      "37/37 [==============================] - 2s 63ms/step - loss: 0.8998 - accuracy: 0.5399 - val_loss: 0.8430 - val_accuracy: 0.6051\n",
      "Epoch 4/400\n",
      "37/37 [==============================] - 2s 63ms/step - loss: 0.8725 - accuracy: 0.5866 - val_loss: 0.8064 - val_accuracy: 0.6492\n",
      "Epoch 5/400\n",
      "37/37 [==============================] - 2s 62ms/step - loss: 0.8593 - accuracy: 0.5963 - val_loss: 0.7723 - val_accuracy: 0.6966\n",
      "Epoch 6/400\n",
      "37/37 [==============================] - 2s 62ms/step - loss: 0.8533 - accuracy: 0.5951 - val_loss: 0.8148 - val_accuracy: 0.6085\n",
      "Epoch 7/400\n",
      "37/37 [==============================] - 2s 63ms/step - loss: 0.8721 - accuracy: 0.5734 - val_loss: 0.7540 - val_accuracy: 0.6407\n",
      "Epoch 8/400\n",
      "37/37 [==============================] - 2s 62ms/step - loss: 0.7962 - accuracy: 0.6384 - val_loss: 0.6927 - val_accuracy: 0.6932\n",
      "Epoch 9/400\n",
      "37/37 [==============================] - 2s 62ms/step - loss: 0.7868 - accuracy: 0.6371 - val_loss: 0.7037 - val_accuracy: 0.6695\n",
      "Epoch 10/400\n",
      "37/37 [==============================] - 2s 62ms/step - loss: 0.7433 - accuracy: 0.6749 - val_loss: 0.7337 - val_accuracy: 0.6305\n",
      "Epoch 11/400\n",
      "37/37 [==============================] - 2s 63ms/step - loss: 0.7572 - accuracy: 0.6553 - val_loss: 0.6452 - val_accuracy: 0.7271\n",
      "Epoch 12/400\n",
      "37/37 [==============================] - 2s 63ms/step - loss: 0.7425 - accuracy: 0.6600 - val_loss: 0.6499 - val_accuracy: 0.7305\n",
      "Epoch 13/400\n",
      "37/37 [==============================] - 2s 63ms/step - loss: 0.7618 - accuracy: 0.6362 - val_loss: 0.6360 - val_accuracy: 0.7051\n",
      "Epoch 14/400\n",
      "37/37 [==============================] - 2s 63ms/step - loss: 0.7153 - accuracy: 0.6766 - val_loss: 0.5969 - val_accuracy: 0.7508\n",
      "Epoch 15/400\n",
      "37/37 [==============================] - 2s 63ms/step - loss: 0.7521 - accuracy: 0.6621 - val_loss: 0.6899 - val_accuracy: 0.6847\n",
      "Epoch 16/400\n",
      "37/37 [==============================] - 2s 63ms/step - loss: 0.7425 - accuracy: 0.6562 - val_loss: 0.7260 - val_accuracy: 0.6559\n",
      "Epoch 17/400\n",
      "37/37 [==============================] - 2s 63ms/step - loss: 0.7443 - accuracy: 0.6723 - val_loss: 0.7213 - val_accuracy: 0.6593\n",
      "Epoch 18/400\n",
      "37/37 [==============================] - 2s 63ms/step - loss: 0.7299 - accuracy: 0.6685 - val_loss: 0.6867 - val_accuracy: 0.6983\n",
      "Epoch 19/400\n",
      "37/37 [==============================] - 2s 62ms/step - loss: 0.6919 - accuracy: 0.6842 - val_loss: 0.5810 - val_accuracy: 0.7424\n",
      "Epoch 20/400\n",
      "37/37 [==============================] - 2s 63ms/step - loss: 0.6990 - accuracy: 0.6919 - val_loss: 0.6092 - val_accuracy: 0.7271\n",
      "Epoch 21/400\n",
      "37/37 [==============================] - 2s 62ms/step - loss: 0.7485 - accuracy: 0.6520 - val_loss: 0.7894 - val_accuracy: 0.6288\n",
      "Epoch 22/400\n",
      "37/37 [==============================] - 2s 63ms/step - loss: 0.7019 - accuracy: 0.6914 - val_loss: 0.7023 - val_accuracy: 0.6814\n",
      "Epoch 23/400\n",
      "37/37 [==============================] - 2s 62ms/step - loss: 0.6852 - accuracy: 0.6995 - val_loss: 0.7821 - val_accuracy: 0.6305\n",
      "Epoch 24/400\n",
      "37/37 [==============================] - 2s 63ms/step - loss: 0.7167 - accuracy: 0.6800 - val_loss: 0.5603 - val_accuracy: 0.7339\n",
      "Epoch 25/400\n",
      "37/37 [==============================] - 2s 63ms/step - loss: 0.6757 - accuracy: 0.6910 - val_loss: 0.5771 - val_accuracy: 0.7644\n",
      "Epoch 26/400\n",
      "37/37 [==============================] - 2s 62ms/step - loss: 0.6953 - accuracy: 0.6876 - val_loss: 0.6058 - val_accuracy: 0.7203\n",
      "Epoch 27/400\n",
      "37/37 [==============================] - 2s 62ms/step - loss: 0.6579 - accuracy: 0.6935 - val_loss: 0.6010 - val_accuracy: 0.7475\n",
      "Epoch 28/400\n",
      "37/37 [==============================] - 2s 62ms/step - loss: 0.6683 - accuracy: 0.6897 - val_loss: 0.6065 - val_accuracy: 0.7169\n",
      "Epoch 29/400\n",
      "37/37 [==============================] - 2s 62ms/step - loss: 0.7364 - accuracy: 0.6647 - val_loss: 0.6180 - val_accuracy: 0.7322\n",
      "Epoch 30/400\n",
      "37/37 [==============================] - 2s 62ms/step - loss: 0.6626 - accuracy: 0.6965 - val_loss: 0.7740 - val_accuracy: 0.6593\n",
      "Epoch 31/400\n",
      "37/37 [==============================] - 2s 62ms/step - loss: 0.6880 - accuracy: 0.6872 - val_loss: 0.5966 - val_accuracy: 0.7424\n",
      "Epoch 32/400\n",
      "37/37 [==============================] - 2s 63ms/step - loss: 0.7016 - accuracy: 0.6736 - val_loss: 0.7261 - val_accuracy: 0.6525\n",
      "Epoch 33/400\n",
      "37/37 [==============================] - 2s 63ms/step - loss: 0.6845 - accuracy: 0.7025 - val_loss: 0.6159 - val_accuracy: 0.7237\n",
      "Epoch 34/400\n",
      "37/37 [==============================] - 2s 62ms/step - loss: 0.6836 - accuracy: 0.6893 - val_loss: 0.5676 - val_accuracy: 0.7610\n",
      "Epoch 35/400\n",
      "37/37 [==============================] - 2s 63ms/step - loss: 0.6904 - accuracy: 0.6927 - val_loss: 0.6140 - val_accuracy: 0.7356\n",
      "Epoch 36/400\n",
      "37/37 [==============================] - 2s 63ms/step - loss: 0.6695 - accuracy: 0.6961 - val_loss: 0.6046 - val_accuracy: 0.7254\n",
      "Epoch 37/400\n",
      "37/37 [==============================] - 2s 62ms/step - loss: 0.7064 - accuracy: 0.6749 - val_loss: 0.7833 - val_accuracy: 0.6203\n",
      "Epoch 38/400\n",
      "37/37 [==============================] - 2s 63ms/step - loss: 0.6700 - accuracy: 0.6986 - val_loss: 0.5595 - val_accuracy: 0.7458\n",
      "Epoch 39/400\n",
      "37/37 [==============================] - 2s 62ms/step - loss: 0.6373 - accuracy: 0.7169 - val_loss: 0.6390 - val_accuracy: 0.7339\n",
      "Epoch 40/400\n",
      "37/37 [==============================] - 2s 62ms/step - loss: 0.6673 - accuracy: 0.7025 - val_loss: 0.6477 - val_accuracy: 0.7136\n",
      "Epoch 41/400\n",
      "37/37 [==============================] - 2s 63ms/step - loss: 0.6861 - accuracy: 0.6774 - val_loss: 0.6072 - val_accuracy: 0.7305\n",
      "Epoch 42/400\n",
      "37/37 [==============================] - 2s 63ms/step - loss: 0.6354 - accuracy: 0.7233 - val_loss: 0.6048 - val_accuracy: 0.7322\n",
      "Epoch 43/400\n",
      "37/37 [==============================] - 2s 62ms/step - loss: 0.6852 - accuracy: 0.6978 - val_loss: 0.5805 - val_accuracy: 0.7441\n",
      "Epoch 44/400\n",
      "37/37 [==============================] - 2s 62ms/step - loss: 0.6437 - accuracy: 0.7216 - val_loss: 0.5843 - val_accuracy: 0.7186\n",
      "Epoch 45/400\n",
      "37/37 [==============================] - 2s 62ms/step - loss: 0.7490 - accuracy: 0.6426 - val_loss: 0.6500 - val_accuracy: 0.7339\n",
      "Epoch 46/400\n",
      "37/37 [==============================] - 2s 62ms/step - loss: 0.6786 - accuracy: 0.6923 - val_loss: 0.5778 - val_accuracy: 0.7407\n",
      "Epoch 47/400\n",
      "37/37 [==============================] - 2s 62ms/step - loss: 0.6647 - accuracy: 0.6978 - val_loss: 0.5556 - val_accuracy: 0.7424\n",
      "Epoch 48/400\n",
      "37/37 [==============================] - 2s 62ms/step - loss: 0.6864 - accuracy: 0.6923 - val_loss: 0.6944 - val_accuracy: 0.6864\n",
      "Epoch 49/400\n",
      "37/37 [==============================] - 2s 62ms/step - loss: 0.7225 - accuracy: 0.6630 - val_loss: 0.5763 - val_accuracy: 0.7322\n",
      "Epoch 50/400\n",
      "37/37 [==============================] - 2s 62ms/step - loss: 0.6380 - accuracy: 0.7067 - val_loss: 0.5512 - val_accuracy: 0.7661\n",
      "Epoch 51/400\n",
      "37/37 [==============================] - 2s 63ms/step - loss: 0.6912 - accuracy: 0.6902 - val_loss: 0.6000 - val_accuracy: 0.7288\n",
      "Epoch 52/400\n",
      "37/37 [==============================] - 2s 62ms/step - loss: 0.6559 - accuracy: 0.6957 - val_loss: 0.6047 - val_accuracy: 0.7407\n",
      "Epoch 53/400\n",
      "37/37 [==============================] - 2s 62ms/step - loss: 0.6196 - accuracy: 0.7165 - val_loss: 0.5533 - val_accuracy: 0.7610\n",
      "Epoch 54/400\n",
      "37/37 [==============================] - 2s 62ms/step - loss: 0.6898 - accuracy: 0.6829 - val_loss: 0.7141 - val_accuracy: 0.6729\n",
      "Epoch 55/400\n",
      "37/37 [==============================] - 2s 63ms/step - loss: 0.6764 - accuracy: 0.6974 - val_loss: 0.5730 - val_accuracy: 0.7407\n",
      "Epoch 56/400\n",
      "37/37 [==============================] - 2s 62ms/step - loss: 0.6272 - accuracy: 0.7046 - val_loss: 0.5809 - val_accuracy: 0.7441\n",
      "Epoch 57/400\n",
      "37/37 [==============================] - 2s 62ms/step - loss: 0.6712 - accuracy: 0.6834 - val_loss: 0.6321 - val_accuracy: 0.7034\n",
      "Epoch 58/400\n",
      "37/37 [==============================] - 2s 62ms/step - loss: 0.6285 - accuracy: 0.7177 - val_loss: 0.6597 - val_accuracy: 0.7000\n",
      "Epoch 59/400\n",
      "37/37 [==============================] - 2s 62ms/step - loss: 0.6115 - accuracy: 0.7173 - val_loss: 0.5609 - val_accuracy: 0.7441\n",
      "Epoch 60/400\n",
      "37/37 [==============================] - 2s 62ms/step - loss: 0.6210 - accuracy: 0.7194 - val_loss: 0.5540 - val_accuracy: 0.7492\n",
      "Epoch 61/400\n",
      "37/37 [==============================] - 2s 62ms/step - loss: 0.6170 - accuracy: 0.7207 - val_loss: 0.6259 - val_accuracy: 0.7271\n",
      "Epoch 62/400\n",
      "37/37 [==============================] - 2s 62ms/step - loss: 0.6151 - accuracy: 0.7279 - val_loss: 0.5536 - val_accuracy: 0.7508\n",
      "Epoch 63/400\n",
      "37/37 [==============================] - 2s 62ms/step - loss: 0.6491 - accuracy: 0.7118 - val_loss: 0.6122 - val_accuracy: 0.7305\n",
      "Epoch 64/400\n",
      "37/37 [==============================] - 2s 62ms/step - loss: 0.6087 - accuracy: 0.7190 - val_loss: 0.5523 - val_accuracy: 0.7593\n",
      "Epoch 65/400\n",
      "37/37 [==============================] - 2s 62ms/step - loss: 0.6177 - accuracy: 0.7135 - val_loss: 0.6114 - val_accuracy: 0.7237\n",
      "Epoch 66/400\n",
      "37/37 [==============================] - 2s 62ms/step - loss: 0.6265 - accuracy: 0.7016 - val_loss: 0.5499 - val_accuracy: 0.7441\n",
      "Epoch 67/400\n",
      "37/37 [==============================] - 2s 62ms/step - loss: 0.6641 - accuracy: 0.6940 - val_loss: 0.7017 - val_accuracy: 0.6644\n",
      "Epoch 68/400\n",
      "37/37 [==============================] - 2s 62ms/step - loss: 0.6389 - accuracy: 0.7110 - val_loss: 0.5455 - val_accuracy: 0.7763\n",
      "Epoch 69/400\n",
      "37/37 [==============================] - 2s 62ms/step - loss: 0.6343 - accuracy: 0.7101 - val_loss: 0.5686 - val_accuracy: 0.7593\n",
      "Epoch 70/400\n",
      "37/37 [==============================] - 2s 63ms/step - loss: 0.6609 - accuracy: 0.6863 - val_loss: 0.6098 - val_accuracy: 0.7153\n",
      "Epoch 71/400\n",
      "37/37 [==============================] - 2s 62ms/step - loss: 0.6265 - accuracy: 0.7118 - val_loss: 0.5941 - val_accuracy: 0.7220\n",
      "Epoch 72/400\n",
      "37/37 [==============================] - 2s 63ms/step - loss: 0.6220 - accuracy: 0.7114 - val_loss: 0.6072 - val_accuracy: 0.7542\n",
      "Epoch 73/400\n",
      "37/37 [==============================] - 2s 62ms/step - loss: 0.6030 - accuracy: 0.7317 - val_loss: 0.5376 - val_accuracy: 0.7678\n",
      "Epoch 74/400\n",
      "37/37 [==============================] - 2s 62ms/step - loss: 0.6101 - accuracy: 0.7118 - val_loss: 0.7058 - val_accuracy: 0.7034\n",
      "Epoch 75/400\n",
      "37/37 [==============================] - 2s 62ms/step - loss: 0.7020 - accuracy: 0.6787 - val_loss: 0.6359 - val_accuracy: 0.7559\n",
      "Epoch 76/400\n",
      "37/37 [==============================] - 2s 62ms/step - loss: 0.6361 - accuracy: 0.7054 - val_loss: 0.5904 - val_accuracy: 0.7508\n",
      "Epoch 77/400\n",
      "37/37 [==============================] - 2s 63ms/step - loss: 0.5944 - accuracy: 0.7322 - val_loss: 0.5588 - val_accuracy: 0.7695\n",
      "Epoch 78/400\n",
      "37/37 [==============================] - 2s 62ms/step - loss: 0.5809 - accuracy: 0.7250 - val_loss: 0.5419 - val_accuracy: 0.7610\n",
      "Epoch 79/400\n",
      "37/37 [==============================] - 2s 63ms/step - loss: 0.5885 - accuracy: 0.7262 - val_loss: 0.5475 - val_accuracy: 0.7441\n",
      "Epoch 80/400\n",
      "37/37 [==============================] - 2s 62ms/step - loss: 0.6461 - accuracy: 0.7020 - val_loss: 0.6654 - val_accuracy: 0.6932\n",
      "Epoch 81/400\n",
      "37/37 [==============================] - 2s 62ms/step - loss: 0.6214 - accuracy: 0.7118 - val_loss: 0.6900 - val_accuracy: 0.6814\n",
      "Epoch 82/400\n",
      "37/37 [==============================] - 2s 62ms/step - loss: 0.6440 - accuracy: 0.7156 - val_loss: 0.5989 - val_accuracy: 0.7508\n",
      "Epoch 83/400\n",
      "37/37 [==============================] - 2s 63ms/step - loss: 0.6064 - accuracy: 0.7203 - val_loss: 0.5680 - val_accuracy: 0.7644\n",
      "Epoch 84/400\n",
      "37/37 [==============================] - 2s 63ms/step - loss: 0.6164 - accuracy: 0.7186 - val_loss: 0.6015 - val_accuracy: 0.7424\n",
      "Epoch 85/400\n",
      "37/37 [==============================] - 2s 63ms/step - loss: 0.6629 - accuracy: 0.6931 - val_loss: 0.5759 - val_accuracy: 0.7492\n",
      "Epoch 86/400\n",
      "37/37 [==============================] - 2s 62ms/step - loss: 0.6055 - accuracy: 0.7262 - val_loss: 0.5590 - val_accuracy: 0.7576\n",
      "Epoch 87/400\n",
      "37/37 [==============================] - 2s 62ms/step - loss: 0.5809 - accuracy: 0.7347 - val_loss: 0.5411 - val_accuracy: 0.7644\n",
      "Epoch 88/400\n",
      "37/37 [==============================] - 2s 62ms/step - loss: 0.6039 - accuracy: 0.7190 - val_loss: 0.5987 - val_accuracy: 0.7220\n",
      "Epoch 89/400\n",
      "37/37 [==============================] - 2s 62ms/step - loss: 0.5980 - accuracy: 0.7224 - val_loss: 0.5651 - val_accuracy: 0.7271\n",
      "Epoch 90/400\n",
      "37/37 [==============================] - 2s 62ms/step - loss: 0.5768 - accuracy: 0.7390 - val_loss: 0.5782 - val_accuracy: 0.7712\n",
      "Epoch 91/400\n",
      "37/37 [==============================] - 2s 62ms/step - loss: 0.5830 - accuracy: 0.7343 - val_loss: 0.5705 - val_accuracy: 0.7458\n",
      "Epoch 92/400\n",
      "37/37 [==============================] - 2s 62ms/step - loss: 0.5867 - accuracy: 0.7394 - val_loss: 0.6261 - val_accuracy: 0.7220\n",
      "Epoch 93/400\n",
      "37/37 [==============================] - 2s 63ms/step - loss: 0.6208 - accuracy: 0.7097 - val_loss: 0.6949 - val_accuracy: 0.7186\n",
      "Epoch 94/400\n",
      "37/37 [==============================] - 2s 62ms/step - loss: 0.5907 - accuracy: 0.7317 - val_loss: 0.5702 - val_accuracy: 0.7559\n",
      "Epoch 95/400\n",
      "37/37 [==============================] - 2s 63ms/step - loss: 0.5813 - accuracy: 0.7402 - val_loss: 0.6114 - val_accuracy: 0.7661\n",
      "Epoch 96/400\n",
      "37/37 [==============================] - 2s 62ms/step - loss: 0.6399 - accuracy: 0.7020 - val_loss: 0.5682 - val_accuracy: 0.7780\n",
      "Epoch 97/400\n",
      "37/37 [==============================] - 2s 63ms/step - loss: 0.6481 - accuracy: 0.7054 - val_loss: 0.6571 - val_accuracy: 0.6983\n",
      "Epoch 98/400\n",
      "37/37 [==============================] - 2s 61ms/step - loss: 0.6337 - accuracy: 0.7118 - val_loss: 0.5654 - val_accuracy: 0.7458\n",
      "Epoch 99/400\n",
      "37/37 [==============================] - 2s 61ms/step - loss: 0.5693 - accuracy: 0.7407 - val_loss: 0.5637 - val_accuracy: 0.7746\n",
      "Epoch 100/400\n",
      "37/37 [==============================] - 2s 62ms/step - loss: 0.6085 - accuracy: 0.7292 - val_loss: 0.6334 - val_accuracy: 0.7017\n",
      "Epoch 101/400\n",
      "37/37 [==============================] - 2s 62ms/step - loss: 0.5829 - accuracy: 0.7351 - val_loss: 0.6757 - val_accuracy: 0.7000\n",
      "Epoch 102/400\n",
      "37/37 [==============================] - 2s 62ms/step - loss: 0.5931 - accuracy: 0.7296 - val_loss: 0.5879 - val_accuracy: 0.7492\n",
      "Epoch 103/400\n",
      "37/37 [==============================] - 2s 62ms/step - loss: 0.6387 - accuracy: 0.7067 - val_loss: 0.7248 - val_accuracy: 0.6627\n",
      "Epoch 104/400\n",
      "37/37 [==============================] - 2s 62ms/step - loss: 0.6230 - accuracy: 0.7237 - val_loss: 0.5823 - val_accuracy: 0.7644\n",
      "Epoch 105/400\n",
      "37/37 [==============================] - 2s 62ms/step - loss: 0.5737 - accuracy: 0.7402 - val_loss: 0.5820 - val_accuracy: 0.7356\n",
      "Epoch 106/400\n",
      "37/37 [==============================] - 2s 62ms/step - loss: 0.5607 - accuracy: 0.7487 - val_loss: 0.5772 - val_accuracy: 0.7610\n",
      "Epoch 107/400\n",
      "37/37 [==============================] - 2s 61ms/step - loss: 0.5438 - accuracy: 0.7619 - val_loss: 0.5476 - val_accuracy: 0.7576\n",
      "Epoch 108/400\n",
      "37/37 [==============================] - 2s 61ms/step - loss: 0.5889 - accuracy: 0.7368 - val_loss: 0.6133 - val_accuracy: 0.7458\n",
      "Epoch 109/400\n",
      "37/37 [==============================] - 2s 62ms/step - loss: 0.5785 - accuracy: 0.7385 - val_loss: 0.5724 - val_accuracy: 0.7475\n",
      "Epoch 110/400\n",
      "37/37 [==============================] - 2s 62ms/step - loss: 0.5610 - accuracy: 0.7466 - val_loss: 0.5897 - val_accuracy: 0.7322\n",
      "Epoch 111/400\n",
      "37/37 [==============================] - 2s 61ms/step - loss: 0.5211 - accuracy: 0.7644 - val_loss: 0.5868 - val_accuracy: 0.7492\n",
      "Epoch 112/400\n",
      "37/37 [==============================] - 2s 61ms/step - loss: 0.5835 - accuracy: 0.7483 - val_loss: 0.5970 - val_accuracy: 0.7746\n",
      "Epoch 113/400\n",
      "37/37 [==============================] - 2s 62ms/step - loss: 0.5504 - accuracy: 0.7572 - val_loss: 0.5722 - val_accuracy: 0.7373\n",
      "Epoch 114/400\n",
      "37/37 [==============================] - 2s 61ms/step - loss: 0.5543 - accuracy: 0.7606 - val_loss: 0.5767 - val_accuracy: 0.7441\n",
      "Epoch 115/400\n",
      "37/37 [==============================] - 2s 61ms/step - loss: 0.5388 - accuracy: 0.7644 - val_loss: 0.6563 - val_accuracy: 0.7136\n",
      "Epoch 116/400\n",
      "37/37 [==============================] - 2s 62ms/step - loss: 0.5139 - accuracy: 0.7750 - val_loss: 0.5749 - val_accuracy: 0.7542\n",
      "Epoch 117/400\n",
      "37/37 [==============================] - 2s 62ms/step - loss: 0.5809 - accuracy: 0.7390 - val_loss: 0.6314 - val_accuracy: 0.7119\n",
      "Epoch 118/400\n",
      "37/37 [==============================] - 2s 62ms/step - loss: 0.5370 - accuracy: 0.7598 - val_loss: 0.6006 - val_accuracy: 0.7525\n",
      "Epoch 119/400\n",
      "37/37 [==============================] - 2s 61ms/step - loss: 0.5056 - accuracy: 0.7699 - val_loss: 0.5882 - val_accuracy: 0.7475\n",
      "Epoch 120/400\n",
      "37/37 [==============================] - 2s 62ms/step - loss: 0.5540 - accuracy: 0.7623 - val_loss: 0.6015 - val_accuracy: 0.7305\n",
      "Epoch 121/400\n",
      "37/37 [==============================] - 2s 62ms/step - loss: 0.5264 - accuracy: 0.7708 - val_loss: 0.6334 - val_accuracy: 0.7390\n",
      "Epoch 122/400\n",
      "37/37 [==============================] - 2s 62ms/step - loss: 0.5094 - accuracy: 0.7767 - val_loss: 0.5821 - val_accuracy: 0.7576\n",
      "Epoch 123/400\n",
      "37/37 [==============================] - 2s 62ms/step - loss: 0.5848 - accuracy: 0.7462 - val_loss: 0.6714 - val_accuracy: 0.7169\n",
      "Epoch 124/400\n",
      "37/37 [==============================] - 2s 61ms/step - loss: 0.5224 - accuracy: 0.7733 - val_loss: 0.6167 - val_accuracy: 0.7322\n",
      "Epoch 125/400\n",
      "37/37 [==============================] - 2s 61ms/step - loss: 0.5283 - accuracy: 0.7746 - val_loss: 0.6242 - val_accuracy: 0.7441\n",
      "Epoch 126/400\n",
      "37/37 [==============================] - 2s 61ms/step - loss: 0.5674 - accuracy: 0.7419 - val_loss: 0.6746 - val_accuracy: 0.6915\n",
      "Epoch 127/400\n",
      "37/37 [==============================] - 2s 62ms/step - loss: 0.5226 - accuracy: 0.7818 - val_loss: 0.6537 - val_accuracy: 0.7169\n",
      "Epoch 128/400\n",
      "37/37 [==============================] - 2s 61ms/step - loss: 0.4846 - accuracy: 0.7806 - val_loss: 0.6676 - val_accuracy: 0.7203\n",
      "Epoch 129/400\n",
      "37/37 [==============================] - 2s 62ms/step - loss: 0.5162 - accuracy: 0.7632 - val_loss: 0.7594 - val_accuracy: 0.6881\n",
      "Epoch 130/400\n",
      "37/37 [==============================] - 2s 62ms/step - loss: 0.4987 - accuracy: 0.7874 - val_loss: 0.6026 - val_accuracy: 0.7441\n",
      "Epoch 131/400\n",
      "37/37 [==============================] - 2s 62ms/step - loss: 0.5331 - accuracy: 0.7704 - val_loss: 0.6047 - val_accuracy: 0.7627\n",
      "Epoch 132/400\n",
      "37/37 [==============================] - 2s 62ms/step - loss: 0.5348 - accuracy: 0.7666 - val_loss: 0.6211 - val_accuracy: 0.7441\n",
      "Epoch 133/400\n",
      "37/37 [==============================] - 2s 62ms/step - loss: 0.5063 - accuracy: 0.7733 - val_loss: 0.6426 - val_accuracy: 0.7390\n",
      "Epoch 134/400\n",
      "37/37 [==============================] - 2s 62ms/step - loss: 0.5392 - accuracy: 0.7661 - val_loss: 0.6254 - val_accuracy: 0.7475\n",
      "Epoch 135/400\n",
      "37/37 [==============================] - 2s 62ms/step - loss: 0.4764 - accuracy: 0.7886 - val_loss: 0.6578 - val_accuracy: 0.7407\n",
      "Epoch 136/400\n",
      "37/37 [==============================] - 2s 62ms/step - loss: 0.5302 - accuracy: 0.7644 - val_loss: 0.6121 - val_accuracy: 0.7424\n",
      "Epoch 137/400\n",
      "37/37 [==============================] - 2s 62ms/step - loss: 0.4889 - accuracy: 0.7954 - val_loss: 0.6639 - val_accuracy: 0.7153\n",
      "Epoch 138/400\n",
      "37/37 [==============================] - 2s 61ms/step - loss: 0.4971 - accuracy: 0.7801 - val_loss: 0.6525 - val_accuracy: 0.7424\n",
      "Epoch 139/400\n",
      "37/37 [==============================] - 2s 61ms/step - loss: 0.4906 - accuracy: 0.7869 - val_loss: 0.6583 - val_accuracy: 0.7424\n",
      "Epoch 140/400\n",
      "37/37 [==============================] - 2s 62ms/step - loss: 0.4998 - accuracy: 0.7784 - val_loss: 0.8094 - val_accuracy: 0.6763\n",
      "Epoch 141/400\n",
      "37/37 [==============================] - 2s 61ms/step - loss: 0.5360 - accuracy: 0.7750 - val_loss: 0.6321 - val_accuracy: 0.7627\n",
      "Epoch 142/400\n",
      "37/37 [==============================] - 2s 61ms/step - loss: 0.5012 - accuracy: 0.7895 - val_loss: 0.7381 - val_accuracy: 0.7254\n",
      "Epoch 143/400\n",
      "37/37 [==============================] - 2s 62ms/step - loss: 0.4589 - accuracy: 0.8048 - val_loss: 0.6878 - val_accuracy: 0.7373\n",
      "Epoch 144/400\n",
      "37/37 [==============================] - 2s 62ms/step - loss: 0.5143 - accuracy: 0.7806 - val_loss: 0.6636 - val_accuracy: 0.7339\n",
      "Epoch 145/400\n",
      "37/37 [==============================] - 2s 61ms/step - loss: 0.4641 - accuracy: 0.7975 - val_loss: 0.6746 - val_accuracy: 0.7407\n",
      "Epoch 146/400\n",
      "37/37 [==============================] - 2s 62ms/step - loss: 0.4460 - accuracy: 0.8056 - val_loss: 0.7169 - val_accuracy: 0.7356\n",
      "Epoch 147/400\n",
      "37/37 [==============================] - 2s 61ms/step - loss: 0.4342 - accuracy: 0.8124 - val_loss: 0.7757 - val_accuracy: 0.7017\n",
      "Epoch 148/400\n",
      "37/37 [==============================] - 2s 61ms/step - loss: 0.5270 - accuracy: 0.7687 - val_loss: 0.6915 - val_accuracy: 0.7254\n",
      "Epoch 149/400\n",
      "37/37 [==============================] - 2s 61ms/step - loss: 0.5161 - accuracy: 0.7729 - val_loss: 0.6755 - val_accuracy: 0.7593\n",
      "Epoch 150/400\n",
      "37/37 [==============================] - 2s 61ms/step - loss: 0.4195 - accuracy: 0.8294 - val_loss: 0.7940 - val_accuracy: 0.7169\n",
      "Epoch 151/400\n",
      "37/37 [==============================] - 2s 61ms/step - loss: 0.4850 - accuracy: 0.8031 - val_loss: 0.7530 - val_accuracy: 0.6966\n",
      "Epoch 152/400\n",
      "37/37 [==============================] - 2s 62ms/step - loss: 0.5399 - accuracy: 0.7725 - val_loss: 0.6820 - val_accuracy: 0.7373\n",
      "Epoch 153/400\n",
      "37/37 [==============================] - 2s 61ms/step - loss: 0.3982 - accuracy: 0.8353 - val_loss: 0.7207 - val_accuracy: 0.7559\n",
      "Epoch 154/400\n",
      "37/37 [==============================] - 2s 61ms/step - loss: 0.4091 - accuracy: 0.8264 - val_loss: 0.7562 - val_accuracy: 0.7203\n",
      "Epoch 155/400\n",
      "37/37 [==============================] - 2s 62ms/step - loss: 0.5038 - accuracy: 0.7890 - val_loss: 0.7313 - val_accuracy: 0.7136\n",
      "Epoch 156/400\n",
      "37/37 [==============================] - 2s 63ms/step - loss: 0.4098 - accuracy: 0.8285 - val_loss: 0.8566 - val_accuracy: 0.6814\n",
      "Epoch 157/400\n",
      "37/37 [==============================] - 2s 62ms/step - loss: 0.4562 - accuracy: 0.8018 - val_loss: 0.7633 - val_accuracy: 0.7153\n",
      "Epoch 158/400\n",
      "37/37 [==============================] - 2s 61ms/step - loss: 0.4170 - accuracy: 0.8213 - val_loss: 0.8488 - val_accuracy: 0.6746\n",
      "Epoch 159/400\n",
      "37/37 [==============================] - 2s 63ms/step - loss: 0.3862 - accuracy: 0.8387 - val_loss: 0.7727 - val_accuracy: 0.7458\n",
      "Epoch 160/400\n",
      "37/37 [==============================] - 2s 63ms/step - loss: 0.4342 - accuracy: 0.8222 - val_loss: 0.7564 - val_accuracy: 0.7441\n",
      "Epoch 161/400\n",
      "37/37 [==============================] - 2s 62ms/step - loss: 0.4697 - accuracy: 0.8043 - val_loss: 0.7519 - val_accuracy: 0.7186\n",
      "Epoch 162/400\n",
      "37/37 [==============================] - 2s 62ms/step - loss: 0.4779 - accuracy: 0.7946 - val_loss: 0.8368 - val_accuracy: 0.6746\n",
      "Epoch 163/400\n",
      "37/37 [==============================] - 2s 63ms/step - loss: 0.4294 - accuracy: 0.8200 - val_loss: 0.7429 - val_accuracy: 0.7458\n",
      "Epoch 164/400\n",
      "37/37 [==============================] - 2s 62ms/step - loss: 0.4077 - accuracy: 0.8323 - val_loss: 0.7606 - val_accuracy: 0.7169\n",
      "Epoch 165/400\n",
      "37/37 [==============================] - 2s 62ms/step - loss: 0.3967 - accuracy: 0.8349 - val_loss: 0.7214 - val_accuracy: 0.7475\n",
      "Epoch 166/400\n",
      "37/37 [==============================] - 2s 62ms/step - loss: 0.3722 - accuracy: 0.8506 - val_loss: 0.7410 - val_accuracy: 0.7424\n",
      "Epoch 167/400\n",
      "37/37 [==============================] - 2s 62ms/step - loss: 0.5102 - accuracy: 0.7827 - val_loss: 0.8596 - val_accuracy: 0.6746\n",
      "Epoch 168/400\n",
      "37/37 [==============================] - 2s 62ms/step - loss: 0.4058 - accuracy: 0.8294 - val_loss: 0.7970 - val_accuracy: 0.7373\n",
      "Epoch 169/400\n",
      "37/37 [==============================] - 2s 62ms/step - loss: 0.3726 - accuracy: 0.8442 - val_loss: 0.9939 - val_accuracy: 0.6492\n",
      "Epoch 170/400\n",
      "37/37 [==============================] - 2s 62ms/step - loss: 0.3615 - accuracy: 0.8485 - val_loss: 0.8422 - val_accuracy: 0.7441\n",
      "Epoch 171/400\n",
      "37/37 [==============================] - 2s 62ms/step - loss: 0.3920 - accuracy: 0.8370 - val_loss: 0.7269 - val_accuracy: 0.7322\n",
      "Epoch 172/400\n",
      "37/37 [==============================] - 2s 62ms/step - loss: 0.4094 - accuracy: 0.8289 - val_loss: 0.7705 - val_accuracy: 0.7322\n",
      "Epoch 173/400\n",
      "37/37 [==============================] - 2s 63ms/step - loss: 0.4056 - accuracy: 0.8294 - val_loss: 0.7624 - val_accuracy: 0.7119\n",
      "Epoch 174/400\n",
      "37/37 [==============================] - 2s 62ms/step - loss: 0.3922 - accuracy: 0.8328 - val_loss: 0.7835 - val_accuracy: 0.7288\n",
      "Epoch 175/400\n",
      "37/37 [==============================] - 2s 62ms/step - loss: 0.4347 - accuracy: 0.8209 - val_loss: 0.7977 - val_accuracy: 0.7305\n",
      "Epoch 176/400\n",
      "37/37 [==============================] - 2s 62ms/step - loss: 0.3605 - accuracy: 0.8493 - val_loss: 0.7896 - val_accuracy: 0.7390\n",
      "Epoch 177/400\n",
      "37/37 [==============================] - 2s 62ms/step - loss: 0.3065 - accuracy: 0.8722 - val_loss: 0.9560 - val_accuracy: 0.7017\n",
      "Epoch 178/400\n",
      "37/37 [==============================] - 2s 62ms/step - loss: 0.4114 - accuracy: 0.8353 - val_loss: 1.1081 - val_accuracy: 0.5831\n",
      "Epoch 179/400\n",
      "37/37 [==============================] - 2s 62ms/step - loss: 0.4688 - accuracy: 0.8149 - val_loss: 0.7603 - val_accuracy: 0.7441\n",
      "Epoch 180/400\n",
      "37/37 [==============================] - 2s 62ms/step - loss: 0.3058 - accuracy: 0.8778 - val_loss: 0.8913 - val_accuracy: 0.7288\n",
      "Epoch 181/400\n",
      "37/37 [==============================] - 2s 62ms/step - loss: 0.2685 - accuracy: 0.8867 - val_loss: 0.9905 - val_accuracy: 0.7220\n",
      "Epoch 182/400\n",
      "37/37 [==============================] - 2s 62ms/step - loss: 0.3228 - accuracy: 0.8693 - val_loss: 1.1121 - val_accuracy: 0.6407\n",
      "Epoch 183/400\n",
      "37/37 [==============================] - 2s 62ms/step - loss: 0.5025 - accuracy: 0.7814 - val_loss: 0.8721 - val_accuracy: 0.6797\n",
      "Epoch 184/400\n",
      "37/37 [==============================] - 2s 62ms/step - loss: 0.3315 - accuracy: 0.8595 - val_loss: 0.8893 - val_accuracy: 0.7169\n",
      "Epoch 185/400\n",
      "37/37 [==============================] - 2s 62ms/step - loss: 0.3225 - accuracy: 0.8659 - val_loss: 0.8835 - val_accuracy: 0.7288\n",
      "Epoch 186/400\n",
      "37/37 [==============================] - 2s 62ms/step - loss: 0.3362 - accuracy: 0.8587 - val_loss: 0.9052 - val_accuracy: 0.6915\n",
      "Epoch 187/400\n",
      "37/37 [==============================] - 2s 62ms/step - loss: 0.3367 - accuracy: 0.8591 - val_loss: 0.8913 - val_accuracy: 0.7271\n",
      "Epoch 188/400\n",
      "37/37 [==============================] - 2s 62ms/step - loss: 0.3685 - accuracy: 0.8502 - val_loss: 0.8149 - val_accuracy: 0.7288\n",
      "Epoch 189/400\n",
      "37/37 [==============================] - 2s 62ms/step - loss: 0.2754 - accuracy: 0.8858 - val_loss: 0.9393 - val_accuracy: 0.7068\n",
      "Epoch 190/400\n",
      "37/37 [==============================] - 2s 62ms/step - loss: 0.3658 - accuracy: 0.8591 - val_loss: 0.8613 - val_accuracy: 0.6915\n",
      "Epoch 191/400\n",
      "37/37 [==============================] - 2s 62ms/step - loss: 0.3114 - accuracy: 0.8761 - val_loss: 0.9013 - val_accuracy: 0.7305\n",
      "Epoch 192/400\n",
      "37/37 [==============================] - 2s 63ms/step - loss: 0.3411 - accuracy: 0.8612 - val_loss: 0.9226 - val_accuracy: 0.7153\n",
      "Epoch 193/400\n",
      "37/37 [==============================] - 2s 62ms/step - loss: 0.2507 - accuracy: 0.9003 - val_loss: 0.9731 - val_accuracy: 0.7017\n",
      "Epoch 194/400\n",
      "37/37 [==============================] - 2s 62ms/step - loss: 0.2697 - accuracy: 0.8918 - val_loss: 0.9666 - val_accuracy: 0.7102\n",
      "Epoch 195/400\n",
      "37/37 [==============================] - 2s 62ms/step - loss: 0.3875 - accuracy: 0.8391 - val_loss: 0.8582 - val_accuracy: 0.7153\n",
      "Epoch 196/400\n",
      "37/37 [==============================] - 2s 62ms/step - loss: 0.3254 - accuracy: 0.8659 - val_loss: 0.9235 - val_accuracy: 0.7034\n",
      "Epoch 197/400\n",
      "37/37 [==============================] - 2s 62ms/step - loss: 0.2816 - accuracy: 0.8841 - val_loss: 0.9964 - val_accuracy: 0.7136\n",
      "Epoch 198/400\n",
      "37/37 [==============================] - 2s 62ms/step - loss: 0.3747 - accuracy: 0.8527 - val_loss: 0.8002 - val_accuracy: 0.7119\n",
      "Epoch 199/400\n",
      "37/37 [==============================] - 2s 62ms/step - loss: 0.2600 - accuracy: 0.8964 - val_loss: 0.9301 - val_accuracy: 0.6949\n",
      "Epoch 200/400\n",
      "37/37 [==============================] - 2s 62ms/step - loss: 0.2421 - accuracy: 0.9053 - val_loss: 0.9367 - val_accuracy: 0.7254\n",
      "Epoch 201/400\n",
      "37/37 [==============================] - 2s 62ms/step - loss: 0.4465 - accuracy: 0.8183 - val_loss: 0.8426 - val_accuracy: 0.7051\n",
      "Epoch 202/400\n",
      "37/37 [==============================] - 2s 62ms/step - loss: 0.2674 - accuracy: 0.8964 - val_loss: 0.9186 - val_accuracy: 0.7271\n",
      "Epoch 203/400\n",
      "37/37 [==============================] - 2s 62ms/step - loss: 0.2354 - accuracy: 0.9100 - val_loss: 1.0262 - val_accuracy: 0.6949\n",
      "Epoch 204/400\n",
      "37/37 [==============================] - 2s 62ms/step - loss: 0.2796 - accuracy: 0.8913 - val_loss: 1.1686 - val_accuracy: 0.6610\n",
      "Epoch 205/400\n",
      "37/37 [==============================] - 2s 62ms/step - loss: 0.3416 - accuracy: 0.8608 - val_loss: 0.9896 - val_accuracy: 0.6898\n",
      "Epoch 206/400\n",
      "37/37 [==============================] - 2s 62ms/step - loss: 0.3040 - accuracy: 0.8824 - val_loss: 0.9687 - val_accuracy: 0.7051\n",
      "Epoch 207/400\n",
      "37/37 [==============================] - 2s 62ms/step - loss: 0.2590 - accuracy: 0.8990 - val_loss: 1.0212 - val_accuracy: 0.6847\n",
      "Epoch 208/400\n",
      "37/37 [==============================] - 2s 62ms/step - loss: 0.2116 - accuracy: 0.9206 - val_loss: 1.0253 - val_accuracy: 0.7237\n",
      "Epoch 209/400\n",
      "37/37 [==============================] - 2s 62ms/step - loss: 0.1985 - accuracy: 0.9223 - val_loss: 1.0716 - val_accuracy: 0.7169\n",
      "Epoch 210/400\n",
      "37/37 [==============================] - 2s 62ms/step - loss: 0.4117 - accuracy: 0.8391 - val_loss: 1.1990 - val_accuracy: 0.5763\n",
      "Epoch 211/400\n",
      "37/37 [==============================] - 2s 62ms/step - loss: 0.5195 - accuracy: 0.7844 - val_loss: 0.7764 - val_accuracy: 0.7068\n",
      "Epoch 212/400\n",
      "37/37 [==============================] - 2s 62ms/step - loss: 0.2829 - accuracy: 0.8964 - val_loss: 0.9076 - val_accuracy: 0.7085\n",
      "Epoch 213/400\n",
      "37/37 [==============================] - 2s 62ms/step - loss: 0.2664 - accuracy: 0.8913 - val_loss: 1.0189 - val_accuracy: 0.6966\n",
      "Epoch 214/400\n",
      "37/37 [==============================] - 2s 62ms/step - loss: 0.2183 - accuracy: 0.9181 - val_loss: 1.0834 - val_accuracy: 0.6746\n",
      "Epoch 215/400\n",
      "37/37 [==============================] - 2s 62ms/step - loss: 0.2221 - accuracy: 0.9104 - val_loss: 1.1418 - val_accuracy: 0.7017\n",
      "Epoch 216/400\n",
      "37/37 [==============================] - 2s 62ms/step - loss: 0.3325 - accuracy: 0.8701 - val_loss: 0.9739 - val_accuracy: 0.6847\n",
      "Epoch 217/400\n",
      "37/37 [==============================] - 2s 62ms/step - loss: 0.1917 - accuracy: 0.9249 - val_loss: 1.0846 - val_accuracy: 0.7119\n",
      "Epoch 218/400\n",
      "37/37 [==============================] - 2s 62ms/step - loss: 0.2794 - accuracy: 0.8918 - val_loss: 1.0296 - val_accuracy: 0.7119\n",
      "Epoch 219/400\n",
      "37/37 [==============================] - 2s 62ms/step - loss: 0.2889 - accuracy: 0.8867 - val_loss: 0.9807 - val_accuracy: 0.7220\n",
      "Epoch 220/400\n",
      "37/37 [==============================] - 2s 62ms/step - loss: 0.2264 - accuracy: 0.9130 - val_loss: 1.0818 - val_accuracy: 0.6814\n",
      "Epoch 221/400\n",
      "37/37 [==============================] - 2s 62ms/step - loss: 0.2441 - accuracy: 0.9079 - val_loss: 1.0076 - val_accuracy: 0.6949\n",
      "Epoch 222/400\n",
      "37/37 [==============================] - 2s 63ms/step - loss: 0.2118 - accuracy: 0.9177 - val_loss: 1.0866 - val_accuracy: 0.6983\n",
      "Epoch 223/400\n",
      "37/37 [==============================] - 2s 62ms/step - loss: 0.1676 - accuracy: 0.9329 - val_loss: 1.1484 - val_accuracy: 0.7085\n",
      "Epoch 224/400\n",
      "37/37 [==============================] - 2s 62ms/step - loss: 0.2040 - accuracy: 0.9181 - val_loss: 1.0650 - val_accuracy: 0.7085\n",
      "Epoch 225/400\n",
      "37/37 [==============================] - 2s 62ms/step - loss: 0.1402 - accuracy: 0.9457 - val_loss: 1.4610 - val_accuracy: 0.6475\n",
      "Epoch 226/400\n",
      "37/37 [==============================] - 2s 62ms/step - loss: 0.3881 - accuracy: 0.8608 - val_loss: 1.1599 - val_accuracy: 0.6695\n",
      "Epoch 227/400\n",
      "37/37 [==============================] - 2s 62ms/step - loss: 0.2462 - accuracy: 0.9130 - val_loss: 1.1023 - val_accuracy: 0.6881\n",
      "Epoch 228/400\n",
      "37/37 [==============================] - 2s 62ms/step - loss: 0.1720 - accuracy: 0.9359 - val_loss: 1.1716 - val_accuracy: 0.7068\n",
      "Epoch 229/400\n",
      "37/37 [==============================] - 2s 62ms/step - loss: 0.4746 - accuracy: 0.8094 - val_loss: 1.0823 - val_accuracy: 0.6542\n",
      "Epoch 230/400\n",
      "37/37 [==============================] - 2s 62ms/step - loss: 0.2748 - accuracy: 0.8960 - val_loss: 1.0688 - val_accuracy: 0.6644\n",
      "Epoch 231/400\n",
      "37/37 [==============================] - 2s 62ms/step - loss: 0.1924 - accuracy: 0.9304 - val_loss: 1.1848 - val_accuracy: 0.6915\n",
      "Epoch 232/400\n",
      "37/37 [==============================] - 2s 62ms/step - loss: 0.1702 - accuracy: 0.9338 - val_loss: 1.1339 - val_accuracy: 0.7051\n",
      "Epoch 233/400\n",
      "37/37 [==============================] - 2s 62ms/step - loss: 0.2114 - accuracy: 0.9147 - val_loss: 1.0836 - val_accuracy: 0.6898\n",
      "Epoch 234/400\n",
      "37/37 [==============================] - 2s 62ms/step - loss: 0.1520 - accuracy: 0.9423 - val_loss: 1.2951 - val_accuracy: 0.6695\n",
      "Epoch 235/400\n",
      "37/37 [==============================] - 2s 62ms/step - loss: 0.2152 - accuracy: 0.9143 - val_loss: 1.2091 - val_accuracy: 0.6441\n",
      "Epoch 236/400\n",
      "37/37 [==============================] - 2s 62ms/step - loss: 0.1716 - accuracy: 0.9312 - val_loss: 1.3125 - val_accuracy: 0.6695\n",
      "Epoch 237/400\n",
      "37/37 [==============================] - 2s 62ms/step - loss: 0.2008 - accuracy: 0.9240 - val_loss: 1.2151 - val_accuracy: 0.6712\n",
      "Epoch 238/400\n",
      "37/37 [==============================] - 2s 62ms/step - loss: 0.1933 - accuracy: 0.9244 - val_loss: 1.1298 - val_accuracy: 0.6932\n",
      "Epoch 239/400\n",
      "37/37 [==============================] - 2s 62ms/step - loss: 0.1795 - accuracy: 0.9372 - val_loss: 1.1782 - val_accuracy: 0.6983\n",
      "Epoch 240/400\n",
      "37/37 [==============================] - 2s 62ms/step - loss: 0.1570 - accuracy: 0.9342 - val_loss: 1.5557 - val_accuracy: 0.6458\n",
      "Epoch 241/400\n",
      "37/37 [==============================] - 2s 62ms/step - loss: 0.4536 - accuracy: 0.8200 - val_loss: 0.9090 - val_accuracy: 0.6932\n",
      "Epoch 242/400\n",
      "37/37 [==============================] - 2s 62ms/step - loss: 0.2509 - accuracy: 0.9028 - val_loss: 1.0740 - val_accuracy: 0.7034\n",
      "Epoch 243/400\n",
      "37/37 [==============================] - 2s 62ms/step - loss: 0.1926 - accuracy: 0.9244 - val_loss: 1.1116 - val_accuracy: 0.7085\n",
      "Epoch 244/400\n",
      "37/37 [==============================] - 2s 62ms/step - loss: 0.1584 - accuracy: 0.9444 - val_loss: 1.3512 - val_accuracy: 0.6508\n",
      "Epoch 245/400\n",
      "37/37 [==============================] - 2s 62ms/step - loss: 0.1625 - accuracy: 0.9397 - val_loss: 1.1278 - val_accuracy: 0.6932\n",
      "Epoch 246/400\n",
      "37/37 [==============================] - 2s 63ms/step - loss: 0.2413 - accuracy: 0.8964 - val_loss: 1.0968 - val_accuracy: 0.6983\n",
      "Epoch 247/400\n",
      "37/37 [==============================] - 2s 62ms/step - loss: 0.2285 - accuracy: 0.9143 - val_loss: 1.1252 - val_accuracy: 0.7051\n",
      "Epoch 248/400\n",
      "37/37 [==============================] - 2s 62ms/step - loss: 0.1584 - accuracy: 0.9393 - val_loss: 1.2345 - val_accuracy: 0.7119\n",
      "Epoch 249/400\n",
      "37/37 [==============================] - 2s 62ms/step - loss: 0.1307 - accuracy: 0.9512 - val_loss: 1.4875 - val_accuracy: 0.6525\n",
      "Epoch 250/400\n",
      "37/37 [==============================] - 2s 62ms/step - loss: 0.2279 - accuracy: 0.9185 - val_loss: 1.1538 - val_accuracy: 0.6831\n",
      "Epoch 251/400\n",
      "37/37 [==============================] - 2s 61ms/step - loss: 0.2201 - accuracy: 0.9113 - val_loss: 1.2200 - val_accuracy: 0.6559\n",
      "Epoch 252/400\n",
      "37/37 [==============================] - 2s 62ms/step - loss: 0.2806 - accuracy: 0.8858 - val_loss: 1.0435 - val_accuracy: 0.6983\n",
      "Epoch 253/400\n",
      "37/37 [==============================] - 2s 62ms/step - loss: 0.2000 - accuracy: 0.9249 - val_loss: 1.1245 - val_accuracy: 0.6729\n",
      "Epoch 254/400\n",
      "37/37 [==============================] - 2s 62ms/step - loss: 0.1374 - accuracy: 0.9478 - val_loss: 1.3018 - val_accuracy: 0.6763\n",
      "Epoch 255/400\n",
      "37/37 [==============================] - 2s 62ms/step - loss: 0.1026 - accuracy: 0.9639 - val_loss: 1.4197 - val_accuracy: 0.6797\n",
      "Epoch 256/400\n",
      "37/37 [==============================] - 2s 62ms/step - loss: 0.1181 - accuracy: 0.9563 - val_loss: 1.4342 - val_accuracy: 0.6932\n",
      "Epoch 257/400\n",
      "37/37 [==============================] - 2s 61ms/step - loss: 0.1418 - accuracy: 0.9486 - val_loss: 1.2948 - val_accuracy: 0.6881\n",
      "Epoch 258/400\n",
      "37/37 [==============================] - 2s 62ms/step - loss: 0.1685 - accuracy: 0.9389 - val_loss: 1.2867 - val_accuracy: 0.6695\n",
      "Epoch 259/400\n",
      "37/37 [==============================] - 2s 62ms/step - loss: 0.1560 - accuracy: 0.9457 - val_loss: 1.3721 - val_accuracy: 0.6559\n",
      "Epoch 260/400\n",
      "37/37 [==============================] - 2s 62ms/step - loss: 0.1684 - accuracy: 0.9402 - val_loss: 1.8959 - val_accuracy: 0.5729\n",
      "Epoch 261/400\n",
      "37/37 [==============================] - 2s 62ms/step - loss: 0.3316 - accuracy: 0.8786 - val_loss: 1.1160 - val_accuracy: 0.6644\n",
      "Epoch 262/400\n",
      "37/37 [==============================] - 2s 62ms/step - loss: 0.1492 - accuracy: 0.9486 - val_loss: 1.3054 - val_accuracy: 0.6729\n",
      "Epoch 263/400\n",
      "37/37 [==============================] - 2s 62ms/step - loss: 0.1654 - accuracy: 0.9444 - val_loss: 1.2115 - val_accuracy: 0.6678\n",
      "Epoch 264/400\n",
      "37/37 [==============================] - 2s 62ms/step - loss: 0.2677 - accuracy: 0.8960 - val_loss: 1.1746 - val_accuracy: 0.6763\n",
      "Epoch 265/400\n",
      "37/37 [==============================] - 2s 63ms/step - loss: 0.1286 - accuracy: 0.9550 - val_loss: 1.2793 - val_accuracy: 0.6763\n",
      "Epoch 266/400\n",
      "37/37 [==============================] - 2s 63ms/step - loss: 0.1217 - accuracy: 0.9529 - val_loss: 1.4741 - val_accuracy: 0.6339\n",
      "Epoch 267/400\n",
      "37/37 [==============================] - 2s 63ms/step - loss: 0.1458 - accuracy: 0.9465 - val_loss: 1.3502 - val_accuracy: 0.6475\n",
      "Epoch 268/400\n",
      "37/37 [==============================] - 2s 62ms/step - loss: 0.1335 - accuracy: 0.9508 - val_loss: 1.3202 - val_accuracy: 0.6729\n",
      "Epoch 269/400\n",
      "37/37 [==============================] - 2s 62ms/step - loss: 0.1784 - accuracy: 0.9359 - val_loss: 1.2561 - val_accuracy: 0.6559\n",
      "Epoch 270/400\n",
      "37/37 [==============================] - 2s 62ms/step - loss: 0.2529 - accuracy: 0.8990 - val_loss: 1.1249 - val_accuracy: 0.6932\n",
      "Epoch 271/400\n",
      "37/37 [==============================] - 2s 62ms/step - loss: 0.1313 - accuracy: 0.9554 - val_loss: 1.2815 - val_accuracy: 0.6915\n",
      "Epoch 272/400\n",
      "37/37 [==============================] - 2s 62ms/step - loss: 0.1064 - accuracy: 0.9652 - val_loss: 1.3457 - val_accuracy: 0.6915\n",
      "Epoch 273/400\n",
      "37/37 [==============================] - 2s 62ms/step - loss: 0.1240 - accuracy: 0.9533 - val_loss: 1.3927 - val_accuracy: 0.6864\n",
      "Epoch 274/400\n",
      "37/37 [==============================] - 2s 63ms/step - loss: 0.1729 - accuracy: 0.9376 - val_loss: 1.1778 - val_accuracy: 0.6966\n",
      "Epoch 275/400\n",
      "37/37 [==============================] - 2s 63ms/step - loss: 0.1350 - accuracy: 0.9444 - val_loss: 1.2491 - val_accuracy: 0.6814\n",
      "Epoch 276/400\n",
      "37/37 [==============================] - 2s 61ms/step - loss: 0.0943 - accuracy: 0.9639 - val_loss: 1.4374 - val_accuracy: 0.6915\n",
      "Epoch 277/400\n",
      "37/37 [==============================] - 2s 62ms/step - loss: 0.0836 - accuracy: 0.9677 - val_loss: 1.5469 - val_accuracy: 0.6847\n",
      "Epoch 278/400\n",
      "37/37 [==============================] - 2s 62ms/step - loss: 0.0875 - accuracy: 0.9716 - val_loss: 1.5844 - val_accuracy: 0.6559\n",
      "Epoch 279/400\n",
      "37/37 [==============================] - 2s 62ms/step - loss: 0.0889 - accuracy: 0.9631 - val_loss: 1.5132 - val_accuracy: 0.6847\n",
      "Epoch 280/400\n",
      "37/37 [==============================] - 2s 62ms/step - loss: 0.1237 - accuracy: 0.9516 - val_loss: 1.4437 - val_accuracy: 0.6627\n",
      "Epoch 281/400\n",
      "37/37 [==============================] - 2s 62ms/step - loss: 0.1941 - accuracy: 0.9287 - val_loss: 1.5241 - val_accuracy: 0.6237\n",
      "Epoch 282/400\n",
      "37/37 [==============================] - 2s 62ms/step - loss: 0.1547 - accuracy: 0.9452 - val_loss: 1.2428 - val_accuracy: 0.7000\n",
      "Epoch 283/400\n",
      "37/37 [==============================] - 2s 62ms/step - loss: 0.0887 - accuracy: 0.9690 - val_loss: 1.4058 - val_accuracy: 0.6881\n",
      "Epoch 284/400\n",
      "37/37 [==============================] - 2s 62ms/step - loss: 0.1362 - accuracy: 0.9469 - val_loss: 1.5344 - val_accuracy: 0.6576\n",
      "Epoch 285/400\n",
      "37/37 [==============================] - 2s 62ms/step - loss: 0.2560 - accuracy: 0.9134 - val_loss: 1.3477 - val_accuracy: 0.6390\n",
      "Epoch 286/400\n",
      "37/37 [==============================] - 2s 62ms/step - loss: 0.1289 - accuracy: 0.9537 - val_loss: 1.2030 - val_accuracy: 0.7034\n",
      "Epoch 287/400\n",
      "37/37 [==============================] - 2s 62ms/step - loss: 0.0567 - accuracy: 0.9817 - val_loss: 1.5054 - val_accuracy: 0.6763\n",
      "Epoch 288/400\n",
      "37/37 [==============================] - 2s 62ms/step - loss: 0.0603 - accuracy: 0.9784 - val_loss: 1.6016 - val_accuracy: 0.6949\n",
      "Epoch 289/400\n",
      "37/37 [==============================] - 2s 62ms/step - loss: 0.1090 - accuracy: 0.9610 - val_loss: 1.5413 - val_accuracy: 0.6390\n",
      "Epoch 290/400\n",
      "37/37 [==============================] - 2s 62ms/step - loss: 0.2223 - accuracy: 0.9194 - val_loss: 1.4038 - val_accuracy: 0.6576\n",
      "Epoch 291/400\n",
      "37/37 [==============================] - 2s 62ms/step - loss: 0.1329 - accuracy: 0.9508 - val_loss: 1.3387 - val_accuracy: 0.6763\n",
      "Epoch 292/400\n",
      "37/37 [==============================] - 2s 62ms/step - loss: 0.0595 - accuracy: 0.9822 - val_loss: 1.5267 - val_accuracy: 0.6644\n",
      "Epoch 293/400\n",
      "37/37 [==============================] - 2s 62ms/step - loss: 0.0819 - accuracy: 0.9711 - val_loss: 1.7514 - val_accuracy: 0.6475\n",
      "Epoch 294/400\n",
      "37/37 [==============================] - 2s 62ms/step - loss: 0.3797 - accuracy: 0.8650 - val_loss: 1.2556 - val_accuracy: 0.6305\n",
      "Epoch 295/400\n",
      "37/37 [==============================] - 2s 62ms/step - loss: 0.1855 - accuracy: 0.9334 - val_loss: 1.2147 - val_accuracy: 0.6678\n",
      "Epoch 296/400\n",
      "37/37 [==============================] - 2s 61ms/step - loss: 0.1303 - accuracy: 0.9512 - val_loss: 1.4510 - val_accuracy: 0.6237\n",
      "Epoch 297/400\n",
      "37/37 [==============================] - 2s 63ms/step - loss: 0.1510 - accuracy: 0.9457 - val_loss: 1.3009 - val_accuracy: 0.6949\n",
      "Epoch 298/400\n",
      "37/37 [==============================] - 2s 62ms/step - loss: 0.1025 - accuracy: 0.9639 - val_loss: 1.8669 - val_accuracy: 0.5966\n",
      "Epoch 299/400\n",
      "37/37 [==============================] - 2s 62ms/step - loss: 0.2378 - accuracy: 0.9189 - val_loss: 1.2127 - val_accuracy: 0.6797\n",
      "Epoch 300/400\n",
      "37/37 [==============================] - 2s 62ms/step - loss: 0.0933 - accuracy: 0.9677 - val_loss: 1.3752 - val_accuracy: 0.6458\n",
      "Epoch 301/400\n",
      "37/37 [==============================] - 2s 62ms/step - loss: 0.0955 - accuracy: 0.9643 - val_loss: 1.3511 - val_accuracy: 0.6712\n",
      "Epoch 302/400\n",
      "37/37 [==============================] - 2s 62ms/step - loss: 0.0855 - accuracy: 0.9686 - val_loss: 1.4049 - val_accuracy: 0.6695\n",
      "Epoch 303/400\n",
      "37/37 [==============================] - 2s 62ms/step - loss: 0.0452 - accuracy: 0.9851 - val_loss: 1.5906 - val_accuracy: 0.6644\n",
      "Epoch 304/400\n",
      "37/37 [==============================] - 2s 62ms/step - loss: 0.0439 - accuracy: 0.9860 - val_loss: 1.6660 - val_accuracy: 0.6780\n",
      "Epoch 305/400\n",
      "37/37 [==============================] - 2s 62ms/step - loss: 0.0825 - accuracy: 0.9728 - val_loss: 1.4654 - val_accuracy: 0.6814\n",
      "Epoch 306/400\n",
      "37/37 [==============================] - 2s 62ms/step - loss: 0.1073 - accuracy: 0.9631 - val_loss: 1.5865 - val_accuracy: 0.6695\n",
      "Epoch 307/400\n",
      "37/37 [==============================] - 2s 62ms/step - loss: 0.1178 - accuracy: 0.9542 - val_loss: 1.4888 - val_accuracy: 0.6746\n",
      "Epoch 308/400\n",
      "37/37 [==============================] - 2s 62ms/step - loss: 0.1243 - accuracy: 0.9478 - val_loss: 1.4635 - val_accuracy: 0.6424\n",
      "Epoch 309/400\n",
      "37/37 [==============================] - 2s 62ms/step - loss: 0.1402 - accuracy: 0.9533 - val_loss: 1.4203 - val_accuracy: 0.6763\n",
      "Epoch 310/400\n",
      "37/37 [==============================] - 2s 62ms/step - loss: 0.0655 - accuracy: 0.9784 - val_loss: 1.5230 - val_accuracy: 0.6712\n",
      "Epoch 311/400\n",
      "37/37 [==============================] - 2s 62ms/step - loss: 0.0535 - accuracy: 0.9839 - val_loss: 1.9427 - val_accuracy: 0.6017\n",
      "Epoch 312/400\n",
      "37/37 [==============================] - 2s 62ms/step - loss: 0.3769 - accuracy: 0.8676 - val_loss: 1.0488 - val_accuracy: 0.6542\n",
      "Epoch 313/400\n",
      "37/37 [==============================] - 2s 62ms/step - loss: 0.1571 - accuracy: 0.9435 - val_loss: 1.2632 - val_accuracy: 0.6932\n",
      "Epoch 314/400\n",
      "37/37 [==============================] - 2s 62ms/step - loss: 0.1055 - accuracy: 0.9648 - val_loss: 1.3737 - val_accuracy: 0.6542\n",
      "Epoch 315/400\n",
      "37/37 [==============================] - 2s 62ms/step - loss: 0.0760 - accuracy: 0.9733 - val_loss: 1.4971 - val_accuracy: 0.6847\n",
      "Epoch 316/400\n",
      "37/37 [==============================] - 2s 61ms/step - loss: 0.0638 - accuracy: 0.9796 - val_loss: 1.3408 - val_accuracy: 0.7119\n",
      "Epoch 317/400\n",
      "37/37 [==============================] - 2s 62ms/step - loss: 0.0695 - accuracy: 0.9762 - val_loss: 1.4130 - val_accuracy: 0.6881\n",
      "Epoch 318/400\n",
      "37/37 [==============================] - 2s 61ms/step - loss: 0.0948 - accuracy: 0.9643 - val_loss: 1.5511 - val_accuracy: 0.6983\n",
      "Epoch 319/400\n",
      "37/37 [==============================] - 2s 62ms/step - loss: 0.2063 - accuracy: 0.9308 - val_loss: 1.5481 - val_accuracy: 0.6322\n",
      "Epoch 320/400\n",
      "37/37 [==============================] - 2s 62ms/step - loss: 0.2247 - accuracy: 0.9266 - val_loss: 1.1518 - val_accuracy: 0.6763\n",
      "Epoch 321/400\n",
      "37/37 [==============================] - 2s 62ms/step - loss: 0.0663 - accuracy: 0.9775 - val_loss: 1.4214 - val_accuracy: 0.6627\n",
      "Epoch 322/400\n",
      "37/37 [==============================] - 2s 62ms/step - loss: 0.0764 - accuracy: 0.9754 - val_loss: 1.6406 - val_accuracy: 0.6508\n",
      "Epoch 323/400\n",
      "37/37 [==============================] - 2s 62ms/step - loss: 0.0734 - accuracy: 0.9741 - val_loss: 1.5570 - val_accuracy: 0.6661\n",
      "Epoch 324/400\n",
      "37/37 [==============================] - 2s 62ms/step - loss: 0.0538 - accuracy: 0.9809 - val_loss: 1.6743 - val_accuracy: 0.6678\n",
      "Epoch 325/400\n",
      "37/37 [==============================] - 2s 62ms/step - loss: 0.0659 - accuracy: 0.9784 - val_loss: 1.6522 - val_accuracy: 0.6712\n",
      "Epoch 326/400\n",
      "37/37 [==============================] - 2s 62ms/step - loss: 0.0795 - accuracy: 0.9728 - val_loss: 1.7008 - val_accuracy: 0.6542\n",
      "Epoch 327/400\n",
      "37/37 [==============================] - 2s 62ms/step - loss: 0.0688 - accuracy: 0.9754 - val_loss: 1.4187 - val_accuracy: 0.6949\n",
      "Epoch 328/400\n",
      "37/37 [==============================] - 2s 62ms/step - loss: 0.0876 - accuracy: 0.9711 - val_loss: 1.6662 - val_accuracy: 0.6644\n",
      "Epoch 329/400\n",
      "37/37 [==============================] - 2s 62ms/step - loss: 0.1918 - accuracy: 0.9355 - val_loss: 1.3239 - val_accuracy: 0.6695\n",
      "Epoch 330/400\n",
      "37/37 [==============================] - 2s 62ms/step - loss: 0.1217 - accuracy: 0.9576 - val_loss: 1.4144 - val_accuracy: 0.6678\n",
      "Epoch 331/400\n",
      "37/37 [==============================] - 2s 62ms/step - loss: 0.0744 - accuracy: 0.9750 - val_loss: 1.4985 - val_accuracy: 0.6542\n",
      "Epoch 332/400\n",
      "37/37 [==============================] - 2s 62ms/step - loss: 0.0699 - accuracy: 0.9754 - val_loss: 1.4657 - val_accuracy: 0.6695\n",
      "Epoch 333/400\n",
      "37/37 [==============================] - 2s 62ms/step - loss: 0.0781 - accuracy: 0.9750 - val_loss: 1.5114 - val_accuracy: 0.6610\n",
      "Epoch 334/400\n",
      "37/37 [==============================] - 2s 62ms/step - loss: 0.1429 - accuracy: 0.9457 - val_loss: 1.4056 - val_accuracy: 0.6932\n",
      "Epoch 335/400\n",
      "37/37 [==============================] - 2s 62ms/step - loss: 0.0961 - accuracy: 0.9618 - val_loss: 1.4753 - val_accuracy: 0.6542\n",
      "Epoch 336/400\n",
      "37/37 [==============================] - 2s 62ms/step - loss: 0.0796 - accuracy: 0.9767 - val_loss: 1.4911 - val_accuracy: 0.6847\n",
      "Epoch 337/400\n",
      "37/37 [==============================] - 2s 62ms/step - loss: 0.0533 - accuracy: 0.9801 - val_loss: 1.4792 - val_accuracy: 0.6814\n",
      "Epoch 338/400\n",
      "37/37 [==============================] - 2s 62ms/step - loss: 0.0415 - accuracy: 0.9860 - val_loss: 1.6040 - val_accuracy: 0.6593\n",
      "Epoch 339/400\n",
      "37/37 [==============================] - 2s 62ms/step - loss: 0.0792 - accuracy: 0.9707 - val_loss: 1.6598 - val_accuracy: 0.6678\n",
      "Epoch 340/400\n",
      "37/37 [==============================] - 2s 62ms/step - loss: 0.1118 - accuracy: 0.9597 - val_loss: 1.6009 - val_accuracy: 0.6576\n",
      "Epoch 341/400\n",
      "37/37 [==============================] - 2s 62ms/step - loss: 0.1146 - accuracy: 0.9580 - val_loss: 1.4657 - val_accuracy: 0.6814\n",
      "Epoch 342/400\n",
      "37/37 [==============================] - 2s 62ms/step - loss: 0.0662 - accuracy: 0.9788 - val_loss: 1.4479 - val_accuracy: 0.6746\n",
      "Epoch 343/400\n",
      "37/37 [==============================] - 2s 62ms/step - loss: 0.0954 - accuracy: 0.9639 - val_loss: 1.5844 - val_accuracy: 0.6593\n",
      "Epoch 344/400\n",
      "37/37 [==============================] - 2s 62ms/step - loss: 0.0936 - accuracy: 0.9707 - val_loss: 1.5256 - val_accuracy: 0.6576\n",
      "Epoch 345/400\n",
      "37/37 [==============================] - 2s 62ms/step - loss: 0.0836 - accuracy: 0.9707 - val_loss: 1.6636 - val_accuracy: 0.6390\n",
      "Epoch 346/400\n",
      "37/37 [==============================] - 2s 62ms/step - loss: 0.1327 - accuracy: 0.9537 - val_loss: 1.6150 - val_accuracy: 0.6492\n",
      "Epoch 347/400\n",
      "37/37 [==============================] - 2s 62ms/step - loss: 0.0535 - accuracy: 0.9843 - val_loss: 1.7270 - val_accuracy: 0.6458\n",
      "Epoch 348/400\n",
      "37/37 [==============================] - 2s 62ms/step - loss: 0.1916 - accuracy: 0.9397 - val_loss: 1.2906 - val_accuracy: 0.6814\n",
      "Epoch 349/400\n",
      "37/37 [==============================] - 2s 62ms/step - loss: 0.0586 - accuracy: 0.9813 - val_loss: 1.3910 - val_accuracy: 0.6898\n",
      "Epoch 350/400\n",
      "37/37 [==============================] - 2s 62ms/step - loss: 0.0807 - accuracy: 0.9750 - val_loss: 1.6044 - val_accuracy: 0.6661\n",
      "Epoch 351/400\n",
      "37/37 [==============================] - 2s 62ms/step - loss: 0.3860 - accuracy: 0.8773 - val_loss: 1.0495 - val_accuracy: 0.6441\n",
      "Epoch 352/400\n",
      "37/37 [==============================] - 2s 62ms/step - loss: 0.0926 - accuracy: 0.9733 - val_loss: 1.2598 - val_accuracy: 0.6712\n",
      "Epoch 353/400\n",
      "37/37 [==============================] - 2s 62ms/step - loss: 0.0549 - accuracy: 0.9839 - val_loss: 1.3976 - val_accuracy: 0.6712\n",
      "Epoch 354/400\n",
      "37/37 [==============================] - 2s 62ms/step - loss: 0.0510 - accuracy: 0.9801 - val_loss: 1.6011 - val_accuracy: 0.6559\n",
      "Epoch 355/400\n",
      "37/37 [==============================] - 2s 62ms/step - loss: 0.0406 - accuracy: 0.9877 - val_loss: 1.6463 - val_accuracy: 0.6661\n",
      "Epoch 356/400\n",
      "37/37 [==============================] - 2s 62ms/step - loss: 0.0829 - accuracy: 0.9737 - val_loss: 1.5719 - val_accuracy: 0.6644\n",
      "Epoch 357/400\n",
      "37/37 [==============================] - 2s 62ms/step - loss: 0.2511 - accuracy: 0.9215 - val_loss: 1.4347 - val_accuracy: 0.5847\n",
      "Epoch 358/400\n",
      "37/37 [==============================] - 2s 62ms/step - loss: 0.1171 - accuracy: 0.9597 - val_loss: 1.2872 - val_accuracy: 0.6339\n",
      "Epoch 359/400\n",
      "37/37 [==============================] - 2s 62ms/step - loss: 0.0299 - accuracy: 0.9902 - val_loss: 1.4914 - val_accuracy: 0.6492\n",
      "Epoch 360/400\n",
      "37/37 [==============================] - 2s 62ms/step - loss: 0.1059 - accuracy: 0.9639 - val_loss: 1.5295 - val_accuracy: 0.6203\n",
      "Epoch 361/400\n",
      "37/37 [==============================] - 2s 62ms/step - loss: 0.0473 - accuracy: 0.9834 - val_loss: 1.5927 - val_accuracy: 0.6627\n",
      "Epoch 362/400\n",
      "37/37 [==============================] - 2s 62ms/step - loss: 0.0214 - accuracy: 0.9958 - val_loss: 1.6901 - val_accuracy: 0.6644\n",
      "Epoch 363/400\n",
      "37/37 [==============================] - 2s 62ms/step - loss: 0.1195 - accuracy: 0.9622 - val_loss: 1.5516 - val_accuracy: 0.6729\n",
      "Epoch 364/400\n",
      "37/37 [==============================] - 2s 62ms/step - loss: 0.1223 - accuracy: 0.9626 - val_loss: 1.4280 - val_accuracy: 0.6559\n",
      "Epoch 365/400\n",
      "37/37 [==============================] - 2s 61ms/step - loss: 0.1358 - accuracy: 0.9580 - val_loss: 1.3596 - val_accuracy: 0.6644\n",
      "Epoch 366/400\n",
      "37/37 [==============================] - 2s 62ms/step - loss: 0.0645 - accuracy: 0.9792 - val_loss: 1.4129 - val_accuracy: 0.6407\n",
      "Epoch 367/400\n",
      "37/37 [==============================] - 2s 62ms/step - loss: 0.2220 - accuracy: 0.9287 - val_loss: 1.3084 - val_accuracy: 0.6542\n",
      "Epoch 368/400\n",
      "37/37 [==============================] - 2s 61ms/step - loss: 0.1019 - accuracy: 0.9669 - val_loss: 1.4043 - val_accuracy: 0.6254\n",
      "Epoch 369/400\n",
      "37/37 [==============================] - 2s 62ms/step - loss: 0.0666 - accuracy: 0.9779 - val_loss: 1.4122 - val_accuracy: 0.6678\n",
      "Epoch 370/400\n",
      "37/37 [==============================] - 2s 62ms/step - loss: 0.0495 - accuracy: 0.9817 - val_loss: 1.5817 - val_accuracy: 0.6661\n",
      "Epoch 371/400\n",
      "37/37 [==============================] - 2s 62ms/step - loss: 0.0903 - accuracy: 0.9686 - val_loss: 1.6548 - val_accuracy: 0.6339\n",
      "Epoch 372/400\n",
      "37/37 [==============================] - 2s 62ms/step - loss: 0.0724 - accuracy: 0.9745 - val_loss: 1.6176 - val_accuracy: 0.6542\n",
      "Epoch 373/400\n",
      "37/37 [==============================] - 2s 62ms/step - loss: 0.0919 - accuracy: 0.9711 - val_loss: 1.5136 - val_accuracy: 0.6678\n",
      "Epoch 374/400\n",
      "37/37 [==============================] - 2s 62ms/step - loss: 0.0848 - accuracy: 0.9669 - val_loss: 1.5064 - val_accuracy: 0.6678\n",
      "Epoch 375/400\n",
      "37/37 [==============================] - 2s 63ms/step - loss: 0.1187 - accuracy: 0.9593 - val_loss: 1.4353 - val_accuracy: 0.6373\n",
      "Epoch 376/400\n",
      "37/37 [==============================] - 2s 62ms/step - loss: 0.0648 - accuracy: 0.9758 - val_loss: 1.4678 - val_accuracy: 0.6627\n",
      "Epoch 377/400\n",
      "37/37 [==============================] - 2s 62ms/step - loss: 0.1201 - accuracy: 0.9614 - val_loss: 1.5749 - val_accuracy: 0.6322\n",
      "Epoch 378/400\n",
      "37/37 [==============================] - 2s 62ms/step - loss: 0.2048 - accuracy: 0.9342 - val_loss: 1.4242 - val_accuracy: 0.6322\n",
      "Epoch 379/400\n",
      "37/37 [==============================] - 2s 62ms/step - loss: 0.2693 - accuracy: 0.9020 - val_loss: 1.1846 - val_accuracy: 0.6271\n",
      "Epoch 380/400\n",
      "37/37 [==============================] - 2s 62ms/step - loss: 0.0924 - accuracy: 0.9707 - val_loss: 1.4343 - val_accuracy: 0.6661\n",
      "Epoch 381/400\n",
      "37/37 [==============================] - 2s 62ms/step - loss: 0.0480 - accuracy: 0.9839 - val_loss: 1.5841 - val_accuracy: 0.6525\n",
      "Epoch 382/400\n",
      "37/37 [==============================] - 2s 62ms/step - loss: 0.0385 - accuracy: 0.9873 - val_loss: 1.7750 - val_accuracy: 0.6441\n",
      "Epoch 383/400\n",
      "37/37 [==============================] - 2s 62ms/step - loss: 0.0587 - accuracy: 0.9822 - val_loss: 1.6347 - val_accuracy: 0.6678\n",
      "Epoch 384/400\n",
      "37/37 [==============================] - 2s 62ms/step - loss: 0.0756 - accuracy: 0.9745 - val_loss: 1.6652 - val_accuracy: 0.6492\n",
      "Epoch 385/400\n",
      "37/37 [==============================] - 2s 62ms/step - loss: 0.2000 - accuracy: 0.9295 - val_loss: 1.3312 - val_accuracy: 0.6593\n",
      "Epoch 386/400\n",
      "37/37 [==============================] - 2s 62ms/step - loss: 0.1486 - accuracy: 0.9465 - val_loss: 1.4339 - val_accuracy: 0.6407\n",
      "Epoch 387/400\n",
      "37/37 [==============================] - 2s 63ms/step - loss: 0.1214 - accuracy: 0.9571 - val_loss: 1.5884 - val_accuracy: 0.6271\n",
      "Epoch 388/400\n",
      "37/37 [==============================] - 2s 61ms/step - loss: 0.0694 - accuracy: 0.9775 - val_loss: 1.5496 - val_accuracy: 0.6576\n",
      "Epoch 389/400\n",
      "37/37 [==============================] - 2s 62ms/step - loss: 0.0392 - accuracy: 0.9877 - val_loss: 1.6653 - val_accuracy: 0.6661\n",
      "Epoch 390/400\n",
      "37/37 [==============================] - 2s 62ms/step - loss: 0.0601 - accuracy: 0.9792 - val_loss: 1.6495 - val_accuracy: 0.6475\n",
      "Epoch 391/400\n",
      "37/37 [==============================] - 2s 63ms/step - loss: 0.0910 - accuracy: 0.9639 - val_loss: 1.4626 - val_accuracy: 0.6814\n",
      "Epoch 392/400\n",
      "37/37 [==============================] - 2s 62ms/step - loss: 0.0777 - accuracy: 0.9724 - val_loss: 1.4261 - val_accuracy: 0.6712\n",
      "Epoch 393/400\n",
      "37/37 [==============================] - 2s 62ms/step - loss: 0.0462 - accuracy: 0.9873 - val_loss: 1.5125 - val_accuracy: 0.6814\n",
      "Epoch 394/400\n",
      "37/37 [==============================] - 2s 62ms/step - loss: 0.0369 - accuracy: 0.9881 - val_loss: 1.6130 - val_accuracy: 0.6864\n",
      "Epoch 395/400\n",
      "37/37 [==============================] - 2s 62ms/step - loss: 0.0501 - accuracy: 0.9813 - val_loss: 1.7523 - val_accuracy: 0.6593\n",
      "Epoch 396/400\n",
      "37/37 [==============================] - 2s 62ms/step - loss: 0.1672 - accuracy: 0.9520 - val_loss: 1.6375 - val_accuracy: 0.6458\n",
      "Epoch 397/400\n",
      "37/37 [==============================] - 2s 62ms/step - loss: 0.1678 - accuracy: 0.9440 - val_loss: 1.2848 - val_accuracy: 0.6610\n",
      "Epoch 398/400\n",
      "37/37 [==============================] - 2s 62ms/step - loss: 0.0499 - accuracy: 0.9864 - val_loss: 1.4965 - val_accuracy: 0.6627\n",
      "Epoch 399/400\n",
      "37/37 [==============================] - 2s 63ms/step - loss: 0.0627 - accuracy: 0.9784 - val_loss: 1.5230 - val_accuracy: 0.6390\n",
      "Epoch 400/400\n",
      "37/37 [==============================] - 2s 62ms/step - loss: 0.0486 - accuracy: 0.9839 - val_loss: 1.5927 - val_accuracy: 0.6610\n"
     ]
    },
    {
     "data": {
      "text/plain": [
       "<tensorflow.python.keras.engine.sequential.Sequential at 0x7fae3e26e7b8>"
      ]
     },
     "execution_count": 25,
     "metadata": {
      "tags": []
     },
     "output_type": "execute_result"
    }
   ],
   "source": [
    "desat_model = build_LSTM(X_train = X_train,\n",
    "                      y_train = y_train,\n",
    "                      num_lstm_layer = 4,\n",
    "                      dropout_rate = 0.2,\n",
    "                      num_units = [256,256,256,256],\n",
    "                      num_epochs = 400,\n",
    "                      num_batches = 64,\n",
    "                      percent_validation = 0.2)\n",
    "desat_model"
   ]
  },
  {
   "cell_type": "markdown",
   "metadata": {
    "colab_type": "text",
    "id": "lyP5NmQGCV-x"
   },
   "source": [
    "Final model results: after 126 epochs, loss: 0.5276 - accuracy: 0.7661 - val_loss: 0.5772 - val_accuracy: 0.7610"
   ]
  },
  {
   "cell_type": "markdown",
   "metadata": {
    "colab_type": "text",
    "id": "YzPcfWAjJ4y0"
   },
   "source": [
    "Best models:\n",
    "1. n=4, units=512,512,512,512. epochs=400\n",
    "loss: 0.5847 - acc: 0.7280 - val_loss: 0.5323 - val_acc: 0.7754\n",
    "2. n=2, units=256,256,256,256. loss: 0.6026 - accuracy: 0.7360 - val_loss: 0.5668 - val_accuracy: 0.7542. Test: 0.6103, 0.7231\n",
    "3. n=2, units=256,256,256,256.loss: 0.5384 - accuracy: 0.7649 - val_loss: 0.5849 - val_accuracy: 0.7576. Test: 0.6084, 0.7481"
   ]
  },
  {
   "cell_type": "markdown",
   "metadata": {
    "colab_type": "text",
    "id": "L-35-7gmFsA1"
   },
   "source": [
    "# Save trained model"
   ]
  },
  {
   "cell_type": "code",
   "execution_count": 78,
   "metadata": {
    "colab": {},
    "colab_type": "code",
    "id": "iF0W3976FrPr"
   },
   "outputs": [
    {
     "ename": "AttributeError",
     "evalue": "'File' object has no attribute 'save'",
     "output_type": "error",
     "traceback": [
      "\u001b[0;31m---------------------------------------------------------------------------\u001b[0m",
      "\u001b[0;31mAttributeError\u001b[0m                            Traceback (most recent call last)",
      "\u001b[0;32m<ipython-input-78-5509fdd74af8>\u001b[0m in \u001b[0;36m<module>\u001b[0;34m\u001b[0m\n\u001b[1;32m      1\u001b[0m \u001b[0;31m# serialize weights to HDF5\u001b[0m\u001b[0;34m\u001b[0m\u001b[0;34m\u001b[0m\u001b[0;34m\u001b[0m\u001b[0m\n\u001b[0;32m----> 2\u001b[0;31m \u001b[0mdesat_model\u001b[0m\u001b[0;34m.\u001b[0m\u001b[0msave\u001b[0m\u001b[0;34m(\u001b[0m\u001b[0;34m'/tmp/alarm_forecasting_model.h5'\u001b[0m\u001b[0;34m)\u001b[0m\u001b[0;34m\u001b[0m\u001b[0;34m\u001b[0m\u001b[0m\n\u001b[0m\u001b[1;32m      3\u001b[0m \u001b[0;31m#desat_model.open('./alarm_forecasting_model.h5')\u001b[0m\u001b[0;34m\u001b[0m\u001b[0;34m\u001b[0m\u001b[0;34m\u001b[0m\u001b[0m\n\u001b[1;32m      4\u001b[0m \u001b[0;31m#desat_model = h5.File('./alarm_forecasting_model.h5', 'r')\u001b[0m\u001b[0;34m\u001b[0m\u001b[0;34m\u001b[0m\u001b[0;34m\u001b[0m\u001b[0m\n",
      "\u001b[0;31mAttributeError\u001b[0m: 'File' object has no attribute 'save'"
     ]
    }
   ],
   "source": [
    "# serialize weights to HDF5\n",
    "desat_model.save('/tmp/alarm_forecasting_model.h5')"
   ]
  },
  {
   "cell_type": "code",
   "execution_count": 77,
   "metadata": {
    "colab": {},
    "colab_type": "code",
    "id": "d-serK0lId1_"
   },
   "outputs": [
    {
     "ename": "AttributeError",
     "evalue": "'File' object has no attribute 'to_json'",
     "output_type": "error",
     "traceback": [
      "\u001b[0;31m---------------------------------------------------------------------------\u001b[0m",
      "\u001b[0;31mAttributeError\u001b[0m                            Traceback (most recent call last)",
      "\u001b[0;32m<ipython-input-77-f6782d4d9a61>\u001b[0m in \u001b[0;36m<module>\u001b[0;34m\u001b[0m\n\u001b[1;32m      1\u001b[0m \u001b[0;31m# serialize model to JSON\u001b[0m\u001b[0;34m\u001b[0m\u001b[0;34m\u001b[0m\u001b[0;34m\u001b[0m\u001b[0m\n\u001b[0;32m----> 2\u001b[0;31m \u001b[0mdesat_model_json\u001b[0m \u001b[0;34m=\u001b[0m \u001b[0mdesat_model\u001b[0m\u001b[0;34m.\u001b[0m\u001b[0mto_json\u001b[0m\u001b[0;34m(\u001b[0m\u001b[0;34m)\u001b[0m\u001b[0;34m\u001b[0m\u001b[0;34m\u001b[0m\u001b[0m\n\u001b[0m\u001b[1;32m      3\u001b[0m \u001b[0;34m\u001b[0m\u001b[0m\n\u001b[1;32m      4\u001b[0m \u001b[0;32mwith\u001b[0m \u001b[0mopen\u001b[0m\u001b[0;34m(\u001b[0m\u001b[0;34m\"./alarm_forecasting_model.json\"\u001b[0m\u001b[0;34m,\u001b[0m \u001b[0;34m\"w\"\u001b[0m\u001b[0;34m)\u001b[0m \u001b[0;32mas\u001b[0m \u001b[0mjson_file\u001b[0m\u001b[0;34m:\u001b[0m\u001b[0;34m\u001b[0m\u001b[0;34m\u001b[0m\u001b[0m\n\u001b[1;32m      5\u001b[0m     \u001b[0mjson_file\u001b[0m\u001b[0;34m.\u001b[0m\u001b[0mwrite\u001b[0m\u001b[0;34m(\u001b[0m\u001b[0mdesat_model_json\u001b[0m\u001b[0;34m)\u001b[0m\u001b[0;34m\u001b[0m\u001b[0;34m\u001b[0m\u001b[0m\n",
      "\u001b[0;31mAttributeError\u001b[0m: 'File' object has no attribute 'to_json'"
     ]
    }
   ],
   "source": [
    "# serialize model to JSON\n",
    "desat_model_json = desat_model.to_json()\n",
    "\n",
    "with open(\"./alarm_forecasting_model.json\", \"w\") as json_file:\n",
    "    json_file.write(desat_model_json)"
   ]
  },
  {
   "cell_type": "code",
   "execution_count": 68,
   "metadata": {
    "colab": {
     "base_uri": "https://localhost:8080/",
     "height": 34
    },
    "colab_type": "code",
    "id": "N1YpJfQbo09d",
    "outputId": "3e0de68e-21d4-4ced-c532-e8f42c84cd08"
   },
   "outputs": [
    {
     "ename": "AttributeError",
     "evalue": "'File' object has no attribute 'metrics_names'",
     "output_type": "error",
     "traceback": [
      "\u001b[0;31m---------------------------------------------------------------------------\u001b[0m",
      "\u001b[0;31mAttributeError\u001b[0m                            Traceback (most recent call last)",
      "\u001b[0;32m<ipython-input-68-9ddca6a98fa9>\u001b[0m in \u001b[0;36m<module>\u001b[0;34m\u001b[0m\n\u001b[0;32m----> 1\u001b[0;31m \u001b[0mdesat_model\u001b[0m\u001b[0;34m.\u001b[0m\u001b[0mmetrics_names\u001b[0m\u001b[0;34m\u001b[0m\u001b[0;34m\u001b[0m\u001b[0m\n\u001b[0m",
      "\u001b[0;31mAttributeError\u001b[0m: 'File' object has no attribute 'metrics_names'"
     ]
    }
   ],
   "source": [
    "desat_model.metrics_names"
   ]
  },
  {
   "cell_type": "code",
   "execution_count": 67,
   "metadata": {
    "colab": {
     "base_uri": "https://localhost:8080/",
     "height": 34
    },
    "colab_type": "code",
    "id": "DPwe2qf8K0W9",
    "outputId": "0fa164e9-1231-4f81-8aca-dc3cf6d16b70"
   },
   "outputs": [
    {
     "ename": "AttributeError",
     "evalue": "'File' object has no attribute 'history'",
     "output_type": "error",
     "traceback": [
      "\u001b[0;31m---------------------------------------------------------------------------\u001b[0m",
      "\u001b[0;31mAttributeError\u001b[0m                            Traceback (most recent call last)",
      "\u001b[0;32m<ipython-input-67-6a539d3e4078>\u001b[0m in \u001b[0;36m<module>\u001b[0;34m\u001b[0m\n\u001b[0;32m----> 1\u001b[0;31m \u001b[0mmax\u001b[0m\u001b[0;34m(\u001b[0m\u001b[0mdesat_model\u001b[0m\u001b[0;34m.\u001b[0m\u001b[0mhistory\u001b[0m\u001b[0;34m.\u001b[0m\u001b[0mhistory\u001b[0m\u001b[0;34m[\u001b[0m\u001b[0;34m'val_accuracy'\u001b[0m\u001b[0;34m]\u001b[0m\u001b[0;34m)\u001b[0m\u001b[0;34m\u001b[0m\u001b[0;34m\u001b[0m\u001b[0m\n\u001b[0m",
      "\u001b[0;31mAttributeError\u001b[0m: 'File' object has no attribute 'history'"
     ]
    }
   ],
   "source": [
    "max(desat_model.history.history['val_accuracy'])"
   ]
  },
  {
   "cell_type": "markdown",
   "metadata": {
    "colab_type": "text",
    "id": "JlQS858_ih-D"
   },
   "source": [
    "# Training loss vs. Validation loss plot"
   ]
  },
  {
   "cell_type": "code",
   "execution_count": 61,
   "metadata": {
    "colab": {
     "base_uri": "https://localhost:8080/",
     "height": 295
    },
    "colab_type": "code",
    "id": "W10WQbVbih-E",
    "outputId": "e3217529-a693-4901-b31a-e876162e3b8d"
   },
   "outputs": [
    {
     "ename": "AttributeError",
     "evalue": "'Sequential' object has no attribute 'history'",
     "output_type": "error",
     "traceback": [
      "\u001b[0;31m---------------------------------------------------------------------------\u001b[0m",
      "\u001b[0;31mAttributeError\u001b[0m                            Traceback (most recent call last)",
      "\u001b[0;32m<ipython-input-61-7319507c738d>\u001b[0m in \u001b[0;36m<module>\u001b[0;34m\u001b[0m\n\u001b[0;32m----> 1\u001b[0;31m \u001b[0mloss_values\u001b[0m \u001b[0;34m=\u001b[0m \u001b[0mdesat_model\u001b[0m\u001b[0;34m.\u001b[0m\u001b[0mhistory\u001b[0m\u001b[0;34m.\u001b[0m\u001b[0mhistory\u001b[0m\u001b[0;34m[\u001b[0m\u001b[0;34m'loss'\u001b[0m\u001b[0;34m]\u001b[0m\u001b[0;34m\u001b[0m\u001b[0;34m\u001b[0m\u001b[0m\n\u001b[0m\u001b[1;32m      2\u001b[0m \u001b[0mval_loss_values\u001b[0m \u001b[0;34m=\u001b[0m \u001b[0mdesat_model\u001b[0m\u001b[0;34m.\u001b[0m\u001b[0mhistory\u001b[0m\u001b[0;34m.\u001b[0m\u001b[0mhistory\u001b[0m\u001b[0;34m[\u001b[0m\u001b[0;34m'val_loss'\u001b[0m\u001b[0;34m]\u001b[0m\u001b[0;34m\u001b[0m\u001b[0;34m\u001b[0m\u001b[0m\n\u001b[1;32m      3\u001b[0m \u001b[0mepochs\u001b[0m \u001b[0;34m=\u001b[0m \u001b[0mrange\u001b[0m\u001b[0;34m(\u001b[0m\u001b[0;36m1\u001b[0m\u001b[0;34m,\u001b[0m \u001b[0mlen\u001b[0m\u001b[0;34m(\u001b[0m\u001b[0mloss_values\u001b[0m\u001b[0;34m)\u001b[0m\u001b[0;34m+\u001b[0m\u001b[0;36m1\u001b[0m\u001b[0;34m)\u001b[0m\u001b[0;34m\u001b[0m\u001b[0;34m\u001b[0m\u001b[0m\n\u001b[1;32m      4\u001b[0m \u001b[0mplt\u001b[0m\u001b[0;34m.\u001b[0m\u001b[0mplot\u001b[0m\u001b[0;34m(\u001b[0m\u001b[0mepochs\u001b[0m\u001b[0;34m,\u001b[0m\u001b[0mloss_values\u001b[0m\u001b[0;34m)\u001b[0m\u001b[0;34m\u001b[0m\u001b[0;34m\u001b[0m\u001b[0m\n\u001b[1;32m      5\u001b[0m \u001b[0mplt\u001b[0m\u001b[0;34m.\u001b[0m\u001b[0mplot\u001b[0m\u001b[0;34m(\u001b[0m\u001b[0mepochs\u001b[0m\u001b[0;34m,\u001b[0m\u001b[0mval_loss_values\u001b[0m\u001b[0;34m)\u001b[0m\u001b[0;34m\u001b[0m\u001b[0;34m\u001b[0m\u001b[0m\n",
      "\u001b[0;31mAttributeError\u001b[0m: 'Sequential' object has no attribute 'history'"
     ]
    }
   ],
   "source": [
    "loss_values = desat_model.history.history['loss']\n",
    "val_loss_values = desat_model.history.history['val_loss']\n",
    "epochs = range(1, len(loss_values)+1)\n",
    "plt.plot(epochs,loss_values)\n",
    "plt.plot(epochs,val_loss_values)\n",
    "plt.title('Model Loss')\n",
    "plt.ylabel('Loss')\n",
    "plt.xlabel('Epoch')\n",
    "plt.legend(['Train', 'Validation'], loc='upper right')\n",
    "plt.show()"
   ]
  },
  {
   "cell_type": "markdown",
   "metadata": {
    "colab_type": "text",
    "id": "_itoOdbmih-L"
   },
   "source": [
    "# Training accuracy vs. Validation accuracy plot"
   ]
  },
  {
   "cell_type": "code",
   "execution_count": null,
   "metadata": {
    "colab": {
     "base_uri": "https://localhost:8080/",
     "height": 295
    },
    "colab_type": "code",
    "id": "TABPnK6Nih-M",
    "outputId": "c1659b54-0552-4d6a-da7f-383c285805b1"
   },
   "outputs": [
    {
     "data": {
      "image/png": "[encoded data removed]",
      "text/plain": [
       "<Figure size 432x288 with 1 Axes>"
      ]
     },
     "metadata": {
      "needs_background": "light",
      "tags": []
     },
     "output_type": "display_data"
    }
   ],
   "source": [
    "acc_values = desat_model.history.history['accuracy']\n",
    "val_acc_values = desat_model.history.history['val_accuracy']\n",
    "epochs = range(1, len(loss_values)+1)\n",
    "plt.plot(epochs,acc_values)\n",
    "plt.plot(epochs,val_acc_values)\n",
    "plt.title('Model Accuracy')\n",
    "plt.ylabel('Accuracy')\n",
    "plt.xlabel('Epoch')\n",
    "plt.legend(['Train', 'Validation'], loc='upper left')\n",
    "plt.show()"
   ]
  },
  {
   "cell_type": "markdown",
   "metadata": {
    "colab_type": "text",
    "id": "z_LrYnB7vwRA"
   },
   "source": [
    "# Save results to csv file"
   ]
  },
  {
   "cell_type": "code",
   "execution_count": null,
   "metadata": {
    "colab": {},
    "colab_type": "code",
    "id": "JZ3cNPaon_K4"
   },
   "outputs": [],
   "source": [
    "import csv  \n",
    "    \n",
    "# field names  \n",
    "fields = ['loss_values', 'val_loss_values', 'acc_values', 'val_acc_values'] \n",
    "\n",
    "rows = zip(loss_values, val_loss_values, acc_values,val_acc_values)\n",
    "# name of csv file  \n",
    "filename = \"/tmp/overtraining_loss_accuracy.csv\"\n",
    "    \n",
    "# writing to csv file  \n",
    "with open(filename, 'w') as csvfile:  \n",
    "    # creating a csv writer object  \n",
    "    csvwriter = csv.writer(csvfile)  \n",
    "        \n",
    "    # writing the fields  \n",
    "    csvwriter.writerow(fields)  \n",
    "    for row in rows:    \n",
    "      # writing the data rows  \n",
    "      csvwriter.writerow(row) "
   ]
  },
  {
   "cell_type": "code",
   "execution_count": null,
   "metadata": {
    "colab": {},
    "colab_type": "code",
    "id": "BxtbVGBowCvb"
   },
   "outputs": [],
   "source": [
    "import csv  \n",
    "# field names  \n",
    "fields = ['loss_values', 'val_loss_values', 'acc_values', 'val_acc_values'] \n",
    "\n",
    "rows = zip(loss_values, val_loss_values, acc_values,val_acc_values)\n",
    "# name of csv file  \n",
    "filename = \"/tmp/final_model_loss_accuracy.csv\"\n",
    "    \n",
    "# writing to csv file  \n",
    "with open(filename, 'w') as csvfile:  \n",
    "    # creating a csv writer object  \n",
    "    csvwriter = csv.writer(csvfile)  \n",
    "        \n",
    "    # writing the fields  \n",
    "    csvwriter.writerow(fields)  \n",
    "    for row in rows:    \n",
    "      # writing the data rows  \n",
    "      csvwriter.writerow(row) "
   ]
  },
  {
   "cell_type": "markdown",
   "metadata": {
    "colab_type": "text",
    "id": "G1khulJ6uMc6"
   },
   "source": []
  },
  {
   "cell_type": "markdown",
   "metadata": {
    "colab_type": "text",
    "id": "-LRnTouwih-Y"
   },
   "source": [
    "# Prepare test dataset"
   ]
  },
  {
   "cell_type": "code",
   "execution_count": null,
   "metadata": {
    "colab": {},
    "colab_type": "code",
    "id": "wTq93Lvhih-c"
   },
   "outputs": [],
   "source": [
    "#X_test, y_test = data_manipulation(masimo_data = fifth_masimo_logging_data,\n",
    "#                                      spacelab_data = fifth_spacelab_logging_data,\n",
    "#                                      upperlimit = 99,\n",
    "#                                      lowerlimit = 91,\n",
    "#                                      long = 60,\n",
    "#                                      n = 2,\n",
    "#                                      m = 1,\n",
    "#                                      N_train = 'all',\n",
    "#                                      strategy = 'strategy1')"
   ]
  },
  {
   "cell_type": "code",
   "execution_count": null,
   "metadata": {
    "colab": {},
    "colab_type": "code",
    "id": "xKYnkXkiih-k"
   },
   "outputs": [],
   "source": [
    "#sum(y_test[y_test == 1])"
   ]
  },
  {
   "cell_type": "code",
   "execution_count": null,
   "metadata": {
    "colab": {},
    "colab_type": "code",
    "id": "dWtkb9niih-o"
   },
   "outputs": [],
   "source": [
    "#sum(y_test[y_test == -1])"
   ]
  },
  {
   "cell_type": "code",
   "execution_count": null,
   "metadata": {
    "colab": {},
    "colab_type": "code",
    "id": "xBgPdAayih-t"
   },
   "outputs": [],
   "source": [
    "#y_test.shape"
   ]
  },
  {
   "cell_type": "markdown",
   "metadata": {
    "colab_type": "text",
    "id": "S6ttcufEYCB6"
   },
   "source": [
    "# Load trained model"
   ]
  },
  {
   "cell_type": "code",
   "execution_count": 110,
   "metadata": {
    "colab": {
     "base_uri": "https://localhost:8080/",
     "height": 35
    },
    "colab_type": "code",
    "id": "a3JZ561XYEjY",
    "outputId": "80559e39-e569-4c3e-9659-2fb8bf7c943b"
   },
   "outputs": [
    {
     "name": "stdout",
     "output_type": "stream",
     "text": [
      "Loaded model from disk\n"
     ]
    }
   ],
   "source": [
    "# keras library import  for Saving and loading model and weights\n",
    "\n",
    "from tensorflow.python.keras.models import model_from_json\n",
    "from tensorflow.python.keras.models import load_model\n",
    "\n",
    "# load json and create model\n",
    "json_file = open('./alarm_forecasting_model.json', 'r')\n",
    "\n",
    "loaded_model_json = json_file.read()\n",
    "json_file.close()\n",
    "desat_model = model_from_json(loaded_model_json)\n",
    "\n",
    "# load weights into new model\n",
    "desat_model.load_weights(\"./alarm_forecasting_model.h5\")\n",
    "print(\"Loaded model from disk\")\n",
    "\n",
    "desat_model.compile(optimizer = 'adam', loss = 'categorical_crossentropy', metrics=['accuracy'])"
   ]
  },
  {
   "cell_type": "markdown",
   "metadata": {
    "colab_type": "text",
    "id": "PH2_afBZih-0"
   },
   "source": [
    "# Evaluate on test dataset"
   ]
  },
  {
   "cell_type": "code",
   "execution_count": 111,
   "metadata": {
    "colab": {
     "base_uri": "https://localhost:8080/",
     "height": 52
    },
    "colab_type": "code",
    "id": "1TrS94wfih-3",
    "outputId": "7e6c1988-46e6-4a2e-a2bf-e7321be19f35"
   },
   "outputs": [
    {
     "name": "stdout",
     "output_type": "stream",
     "text": [
      "\r",
      "520/1 [================================================================================================================================================================================================================================================================================================================================================================================================================================================================================================================================================================================================================================================================================================================================================================================================================================================================================================================================================================================================================================================================================================================================================================================================================================================================================================================================================================================================================================================================================================================================================================================================================================================================================================================================================================================================================================================================================================================================================================================================================================================================================================================================================================================================================================================================================================================================================================================================================================================================================================================================================================================================================================================================================================================================================================================================================================================================================================================================================================================================================================================================================================================================================================================================================================================================================================================================================================================================================================================================================================================================================================================================================================================================================================================================================================================================================================================================================================================================================================================================================================================================================================================================================================================================================================================================================================================================================================================================================================================================================================================================================================================================================================================================================================================================================================================================================================================================================================================================================================================================================================================================================================================================================================================================================================================================================================================================================================================================================================================================================================================================================================================================================================================================================================================================================================================================================================================================================================================================================================================================================================================================================================================================================================================================================================================================================================================================================================================================================================================================================================================================================================================================================================================================================================================================================================================================================================================================================================================================================================================================================================================================================================================================================================================================================================================================================================================================================================================================================================================================================================================================================================================================================================================================================================================================================================================================================================================================================================================================================================================================================================================================================================================================================================================================================================================================================================================================================================================================================================================================================================================================================================================================================================================================================================================================================================================================================================================================================================================================================================================================================================================================================================================================================================================================================================================================================================================================================================================================================================================================================================================================================================================================================================================================================================================================================================================================================================================================================================================================================================================================================================================================================================================================================================================================================================================================================================================================================================================================================================================================================================================================================================================================================================================================================================================================================================================================================================================================================================================================================================================================================================================================================================================================================================================================================================================================================================================================================================================================================================================================================================================================================================================================================================================================================================================================================================================================================================================================================================================================================================================================================================================================================================================================================================================================================================================================================================================================================================================================================================================================================================================================================================================================================================================================================================================================================================================================================================================================================================================================================================================================================================================================================================================================================================================================================================================================================================================================================================================================================================================================================================================================================================================================================================================================================================================================================================================================================================================================================================================================================================================================================================================================================================================================================================================================================================================================================================================================================================================================================================================================================================================================================================================================================================================================================================================================================================================================================================================================================================================================================================================================================================================================================================================================================================================================================================================================================================================================================================================================================================================================================================================================================================================================================================================================================================================================================================================================================================================================================================================================================================================================================================================================================================================================================================================================================================================] - 13s 25ms/sample - loss: 0.4898 - accuracy: 0.7423\n"
     ]
    },
    {
     "data": {
      "text/plain": [
       "[0.6114927250605363, 0.74230766]"
      ]
     },
     "execution_count": 111,
     "metadata": {},
     "output_type": "execute_result"
    }
   ],
   "source": [
    "predicted_labels = desat_model.predict(X_test)\n",
    "categorical_y_test = to_categorical(y_test, num_classes=3)\n",
    "desat_model.evaluate(X_test,categorical_y_test)"
   ]
  },
  {
   "cell_type": "code",
   "execution_count": null,
   "metadata": {},
   "outputs": [],
   "source": []
  },
  {
   "cell_type": "code",
   "execution_count": 112,
   "metadata": {
    "colab": {
     "base_uri": "https://localhost:8080/",
     "height": 34
    },
    "colab_type": "code",
    "id": "OdK8mpsFih_C",
    "outputId": "91db0aa1-3d5f-4d52-d631-5d4028cd1819"
   },
   "outputs": [
    {
     "data": {
      "text/plain": [
       "array([[2.8783104e-01, 6.4108748e-04, 7.1152782e-01]], dtype=float32)"
      ]
     },
     "execution_count": 112,
     "metadata": {},
     "output_type": "execute_result"
    }
   ],
   "source": [
    "desat_model.predict(X_all[2664:2665])"
   ]
  },
  {
   "cell_type": "code",
   "execution_count": 113,
   "metadata": {
    "colab": {
     "base_uri": "https://localhost:8080/",
     "height": 34
    },
    "colab_type": "code",
    "id": "k4AylNvI18tR",
    "outputId": "6fad4de7-da2c-4bf0-96af-cffd4b98235c"
   },
   "outputs": [
    {
     "data": {
      "text/plain": [
       "array([[0.3443665 , 0.00135368, 0.65427977]], dtype=float32)"
      ]
     },
     "execution_count": 113,
     "metadata": {},
     "output_type": "execute_result"
    }
   ],
   "source": [
    "desat_model.predict(X_all[2705:2706])"
   ]
  },
  {
   "cell_type": "code",
   "execution_count": 114,
   "metadata": {
    "colab": {
     "base_uri": "https://localhost:8080/",
     "height": 279
    },
    "colab_type": "code",
    "id": "HZFaEAN8-83B",
    "outputId": "bf3277f1-341c-4ffe-f6bc-f43c23714275"
   },
   "outputs": [
    {
     "data": {
      "image/png": "[encoded data removed]",
      "text/plain": [
       "<Figure size 432x288 with 1 Axes>"
      ]
     },
     "metadata": {
      "needs_background": "light"
     },
     "output_type": "display_data"
    }
   ],
   "source": [
    "# Successful prediction of desaturation\n",
    "plt.plot(np.concatenate((X_all[2664:2665][0][:,0], X_all[2665:2666][0][:,0][60:120]), axis=0))\n",
    "plt.plot([0, 180],[91, 91],'r--')\n",
    "plt.plot([120,120],[78,99],'g:')\n",
    "plt.ylabel('SpO2 %')\n",
    "plt.xlabel('time (s)')\n",
    "plt.xlim(0,180)\n",
    "plt.ylim(78,99)\n",
    "plt.show()"
   ]
  },
  {
   "cell_type": "code",
   "execution_count": null,
   "metadata": {
    "colab": {},
    "colab_type": "code",
    "id": "L1UbodVnA2OA"
   },
   "outputs": [],
   "source": [
    "# save data to csv\n",
    "import csv  \n",
    "# name of csv file  \n",
    "filename = \"/tmp/desaturation_example_1.csv\"\n",
    "data1 = np.concatenate((X_all[2664:2665][0][:,0], X_all[2665:2666][0][:,0][60:120]), axis=0)    \n",
    "# writing to csv file  \n",
    "with open(filename, 'w') as csvfile:  \n",
    "    # creating a csv writer object  \n",
    "    csvwriter = csv.writer(csvfile)  \n",
    "        \n",
    "    # writing the fields  \n",
    "    csvwriter.writerow(data1)  "
   ]
  },
  {
   "cell_type": "code",
   "execution_count": 115,
   "metadata": {
    "colab": {
     "base_uri": "https://localhost:8080/",
     "height": 35
    },
    "colab_type": "code",
    "id": "hivTQ3YSClSm",
    "outputId": "f8812991-81b3-4c51-c6b4-a1df5007a309"
   },
   "outputs": [
    {
     "data": {
      "text/plain": [
       "array([[1.7542163e-01, 1.4996791e-04, 8.2442838e-01]], dtype=float32)"
      ]
     },
     "execution_count": 115,
     "metadata": {},
     "output_type": "execute_result"
    }
   ],
   "source": [
    "desat_model.predict(X_all[2309:2310])"
   ]
  },
  {
   "cell_type": "code",
   "execution_count": 116,
   "metadata": {
    "colab": {
     "base_uri": "https://localhost:8080/",
     "height": 279
    },
    "colab_type": "code",
    "id": "BL3sPoipCd3l",
    "outputId": "70cf64bb-775a-415b-fc76-712c97a9075a"
   },
   "outputs": [
    {
     "data": {
      "image/png": "[encoded data removed]",
      "text/plain": [
       "<Figure size 432x288 with 1 Axes>"
      ]
     },
     "metadata": {
      "needs_background": "light"
     },
     "output_type": "display_data"
    }
   ],
   "source": [
    "# Successful prediction of desaturation\n",
    "plt.plot(np.concatenate((X_all[2309:2310][0][:,0], X_all[2310:2311][0][:,0][60:120]), axis=0))\n",
    "plt.plot([0, 180],[91, 91],'r--')\n",
    "plt.plot([120,120],[72,93],'g:')\n",
    "plt.ylabel('SpO2 %')\n",
    "plt.xlabel('time (s)')\n",
    "plt.xlim(0,180)\n",
    "plt.ylim(72,93)\n",
    "plt.show()"
   ]
  },
  {
   "cell_type": "code",
   "execution_count": null,
   "metadata": {
    "colab": {},
    "colab_type": "code",
    "id": "21i2ZsQTC-OE"
   },
   "outputs": [],
   "source": [
    "# save data to csv\n",
    "import csv  \n",
    "# name of csv file  \n",
    "filename = \"/tmp/desaturation_example_2.csv\"\n",
    "data2 = np.concatenate((X_all[2309:2310][0][:,0], X_all[2310:2311][0][:,0][60:120]), axis=0)   \n",
    "# writing to csv file  \n",
    "with open(filename, 'w') as csvfile:  \n",
    "    # creating a csv writer object  \n",
    "    csvwriter = csv.writer(csvfile)  \n",
    "        \n",
    "    # writing the fields  \n",
    "    csvwriter.writerow(data2) "
   ]
  },
  {
   "cell_type": "code",
   "execution_count": 117,
   "metadata": {
    "colab": {
     "base_uri": "https://localhost:8080/",
     "height": 34
    },
    "colab_type": "code",
    "id": "6H4ExiJdETHd",
    "outputId": "20808c13-9aa6-46eb-f0f4-321e61cbf66b"
   },
   "outputs": [
    {
     "data": {
      "text/plain": [
       "array([[6.6060364e-01, 5.0500204e-04, 3.3889133e-01]], dtype=float32)"
      ]
     },
     "execution_count": 117,
     "metadata": {},
     "output_type": "execute_result"
    }
   ],
   "source": [
    "desat_model.predict(X_all[2050:2051])"
   ]
  },
  {
   "cell_type": "code",
   "execution_count": 118,
   "metadata": {
    "colab": {
     "base_uri": "https://localhost:8080/",
     "height": 34
    },
    "colab_type": "code",
    "id": "JUnD2M9E5DY2",
    "outputId": "ec4b274d-6e2b-41e5-fd0d-aea29274f96f"
   },
   "outputs": [
    {
     "data": {
      "text/plain": [
       "array([[0.45858645, 0.50251025, 0.03890329]], dtype=float32)"
      ]
     },
     "execution_count": 118,
     "metadata": {},
     "output_type": "execute_result"
    }
   ],
   "source": [
    "desat_model.predict(X_all[2874:2875])"
   ]
  },
  {
   "cell_type": "code",
   "execution_count": 119,
   "metadata": {
    "colab": {
     "base_uri": "https://localhost:8080/",
     "height": 34
    },
    "colab_type": "code",
    "id": "CWWC0EKgr6iU",
    "outputId": "95fb21d8-9fb9-4227-d731-3a054427abef"
   },
   "outputs": [
    {
     "data": {
      "text/plain": [
       "array([[0.37564573, 0.5804519 , 0.04390237]], dtype=float32)"
      ]
     },
     "execution_count": 119,
     "metadata": {},
     "output_type": "execute_result"
    }
   ],
   "source": [
    "desat_model.predict(X_all[2889:2890])"
   ]
  },
  {
   "cell_type": "code",
   "execution_count": 120,
   "metadata": {
    "colab": {
     "base_uri": "https://localhost:8080/",
     "height": 283
    },
    "colab_type": "code",
    "id": "8EU2nwBoFND3",
    "outputId": "e0dbc829-c3b3-49d0-b2c2-4f5a53af0192"
   },
   "outputs": [
    {
     "data": {
      "image/png": "[encoded data removed]",
      "text/plain": [
       "<Figure size 432x288 with 1 Axes>"
      ]
     },
     "metadata": {
      "needs_background": "light"
     },
     "output_type": "display_data"
    }
   ],
   "source": [
    "# Fales prediction of oversaturation\n",
    "plt.plot(np.concatenate((X_all[2874:2875][0][:,0], X_all[2875:2876][0][:,0][60:120]), axis=0))\n",
    "plt.plot([0, 180],[91, 91],'r--')\n",
    "plt.plot([0, 180],[99, 99],'r--')\n",
    "plt.plot([120,120],[83,100],'g:')\n",
    "plt.ylabel('SpO2 %')\n",
    "plt.xlabel('time (s)')\n",
    "plt.xlim(0,180)\n",
    "plt.ylim(83,100)\n",
    "plt.show()"
   ]
  },
  {
   "cell_type": "code",
   "execution_count": null,
   "metadata": {
    "colab": {},
    "colab_type": "code",
    "id": "egU863FO5auz"
   },
   "outputs": [],
   "source": [
    "# save data to csv\n",
    "import csv  \n",
    "# name of csv file  \n",
    "filename = \"/tmp/false_oversat_example.csv\"\n",
    "data3 = np.concatenate((X_all[2874:2875][0][:,0], X_all[2875:2876][0][:,0][60:120]), axis=0)   \n",
    "# writing to csv file  \n",
    "with open(filename, 'w') as csvfile:  \n",
    "    # creating a csv writer object  \n",
    "    csvwriter = csv.writer(csvfile)  \n",
    "        \n",
    "    # writing the fields  \n",
    "    csvwriter.writerow(data3) "
   ]
  },
  {
   "cell_type": "code",
   "execution_count": 121,
   "metadata": {
    "colab": {
     "base_uri": "https://localhost:8080/",
     "height": 35
    },
    "colab_type": "code",
    "id": "WCDYiCDDICFL",
    "outputId": "82d4b3a0-e4da-4357-e542-135f05b998e6"
   },
   "outputs": [
    {
     "data": {
      "text/plain": [
       "array([[0.46893767, 0.03235071, 0.4987116 ]], dtype=float32)"
      ]
     },
     "execution_count": 121,
     "metadata": {},
     "output_type": "execute_result"
    }
   ],
   "source": [
    "desat_model.predict(X_all[2056:2057])"
   ]
  },
  {
   "cell_type": "code",
   "execution_count": 122,
   "metadata": {
    "colab": {
     "base_uri": "https://localhost:8080/",
     "height": 35
    },
    "colab_type": "code",
    "id": "Q-2LNwACHCpX",
    "outputId": "48f1c5cb-0597-4f15-9164-964e15a68046"
   },
   "outputs": [
    {
     "data": {
      "text/plain": [
       "array([[0.7999326 , 0.01345657, 0.18661083]], dtype=float32)"
      ]
     },
     "execution_count": 122,
     "metadata": {},
     "output_type": "execute_result"
    }
   ],
   "source": [
    "desat_model.predict(X_all[2075:2076])"
   ]
  },
  {
   "cell_type": "code",
   "execution_count": null,
   "metadata": {
    "colab": {
     "base_uri": "https://localhost:8080/",
     "height": 283
    },
    "colab_type": "code",
    "id": "GKnEYftVIN1v",
    "outputId": "ec5f0b0b-ed2e-4eb9-95ff-c583e62f5d4c"
   },
   "outputs": [
    {
     "data": {
      "image/png": "[encoded data removed]",
      "text/plain": [
       "<Figure size 432x288 with 1 Axes>"
      ]
     },
     "metadata": {
      "needs_background": "light",
      "tags": []
     },
     "output_type": "display_data"
    }
   ],
   "source": [
    "# Fail to predict desaturation\n",
    "plt.plot(np.concatenate((X_all[2075:2076][0][:,0], X_all[2076:2077][0][:,0][60:120]), axis=0))\n",
    "plt.plot([0, 180],[91, 91],'r--')\n",
    "plt.plot([120,120],[78,100],'g:')\n",
    "plt.ylabel('SpO2 %')\n",
    "plt.xlabel('time (s)')\n",
    "plt.xlim(0,180)\n",
    "plt.ylim(78,100)\n",
    "plt.show()"
   ]
  },
  {
   "cell_type": "code",
   "execution_count": null,
   "metadata": {
    "colab": {},
    "colab_type": "code",
    "id": "eJIl8wZWJLzX"
   },
   "outputs": [],
   "source": [
    "# save data to csv\n",
    "import csv  \n",
    "# name of csv file  \n",
    "filename = \"/tmp/miss_desat_example.csv\"\n",
    "data4 = np.concatenate((X_all[2075:2076][0][:,0], X_all[2076:2077][0][:,0][60:120]), axis=0)   \n",
    "# writing to csv file  \n",
    "with open(filename, 'w') as csvfile:  \n",
    "    # creating a csv writer object  \n",
    "    csvwriter = csv.writer(csvfile)  \n",
    "        \n",
    "    # writing the fields  \n",
    "    csvwriter.writerow(data4) "
   ]
  },
  {
   "cell_type": "code",
   "execution_count": 123,
   "metadata": {
    "colab": {},
    "colab_type": "code",
    "id": "3S9FpDqQih_F"
   },
   "outputs": [
    {
     "data": {
      "text/plain": [
       "array([[0., 0., 1.],\n",
       "       [0., 1., 0.],\n",
       "       [0., 0., 1.],\n",
       "       [1., 0., 0.],\n",
       "       [0., 0., 1.],\n",
       "       [0., 0., 1.],\n",
       "       [0., 1., 0.],\n",
       "       [1., 0., 0.],\n",
       "       [0., 0., 1.],\n",
       "       [1., 0., 0.]], dtype=float32)"
      ]
     },
     "execution_count": 123,
     "metadata": {},
     "output_type": "execute_result"
    }
   ],
   "source": [
    "categorical_y_test[0:10]"
   ]
  },
  {
   "cell_type": "code",
   "execution_count": 124,
   "metadata": {
    "colab": {},
    "colab_type": "code",
    "id": "W6C2PGrgih_H"
   },
   "outputs": [
    {
     "data": {
      "text/plain": [
       "array([-1.,  1., -1.,  0., -1., -1.,  1.,  0., -1.,  0.,  1.,  1.,  1.,\n",
       "        0., -1.,  1.,  0.,  0.,  0.,  1.,  1., -1.,  1.,  1., -1., -1.,\n",
       "        0.,  1.,  0.,  1.,  1.,  1., -1.,  0.,  0., -1.,  0.,  1.,  1.,\n",
       "        0.,  1., -1., -1.,  1.,  0.,  0.,  0.,  0.,  0., -1., -1.,  1.,\n",
       "       -1., -1.,  1., -1.,  0.,  0., -1.,  1.,  0.,  0., -1.,  0., -1.,\n",
       "        0., -1., -1.,  0.,  1.,  1., -1.,  0.,  0., -1.,  0., -1.,  1.,\n",
       "        0.,  0., -1., -1.,  1.,  0., -1., -1.,  0.,  0.,  0.,  0.,  0.,\n",
       "        0., -1., -1.,  0.,  0.,  1., -1., -1., -1.,  0.,  0.,  0.,  0.,\n",
       "       -1.,  1.,  0.,  1.,  1.,  0.,  0.,  1.,  0.,  1., -1.,  0.,  0.,\n",
       "       -1.,  1.,  0.,  0.,  0.,  0.,  0., -1.,  1., -1.,  1.,  0.,  0.,\n",
       "        0., -1., -1.,  0.,  0.,  0.,  0., -1.,  1., -1.,  1.,  1.,  1.,\n",
       "       -1.,  0., -1.,  0.,  0.,  0.,  0.,  1., -1., -1.,  0.,  0.,  1.,\n",
       "        0.,  1.,  1., -1.,  0.,  1.,  0., -1.,  0., -1.,  0.,  1.,  0.,\n",
       "       -1.,  0., -1., -1.,  1.,  0.,  0.,  0.,  1.,  1.,  0.,  1.,  1.,\n",
       "       -1.,  1.,  1.,  0., -1.,  0., -1., -1.,  0.,  1., -1.,  1.,  0.,\n",
       "        1.,  0., -1., -1.,  1.,  0.,  0., -1.,  0.,  0.,  1., -1., -1.,\n",
       "        0.,  0.,  1., -1.,  1., -1., -1.,  1.,  1.,  1.,  0.,  0., -1.,\n",
       "        1.,  0.,  0.,  0., -1.,  0., -1.,  0.,  0., -1., -1., -1., -1.,\n",
       "        0., -1.,  0., -1.,  0., -1., -1., -1., -1., -1.,  1., -1.,  1.,\n",
       "        0.,  0.,  0.,  0.,  1., -1.,  0., -1.,  0., -1., -1.,  1.,  0.,\n",
       "        0.,  1., -1.,  1.,  0.,  1.,  0.,  1., -1., -1.,  1.,  1.,  0.,\n",
       "       -1., -1.,  0., -1., -1.,  1.,  1.,  1., -1.,  0., -1.,  1., -1.,\n",
       "        1., -1.,  1., -1.,  0., -1.,  1.,  0.,  0.,  1., -1.,  0.,  0.,\n",
       "        0.,  0.,  0., -1.,  1.,  1., -1., -1.,  0.,  1.,  1.,  0.,  0.,\n",
       "       -1.,  1.,  0.,  1.,  0., -1.,  0.,  0.,  0., -1., -1., -1.,  1.,\n",
       "        0., -1.,  0.,  1., -1.,  0.,  1., -1.,  0.,  0.,  1.,  0., -1.,\n",
       "       -1.,  0.,  0.,  1., -1.,  1.,  0.,  1.,  1.,  0., -1.,  0.,  0.,\n",
       "       -1.,  1.,  1.,  0.,  1.,  0.,  1.,  0.,  0.,  0.,  0., -1.,  0.,\n",
       "        0., -1.,  0., -1., -1.,  0.,  0., -1.,  1., -1.,  0.,  0.,  0.,\n",
       "        0.,  0., -1., -1.,  1.,  1.,  0., -1., -1., -1., -1.,  0.,  1.,\n",
       "        1., -1.,  0.,  0.,  1., -1., -1.,  1., -1., -1.,  0.,  0.,  0.,\n",
       "        0.,  0.,  0.,  0.,  1.,  0., -1.,  0.,  0., -1.,  1., -1., -1.,\n",
       "        1., -1., -1.,  0.,  0.,  1.,  0.,  1., -1.,  0.,  0., -1.,  0.,\n",
       "       -1.,  0., -1.,  1.,  1.,  1., -1., -1.,  0.,  1.,  0.,  0.,  1.,\n",
       "        0., -1.,  1.,  0., -1., -1., -1., -1.,  0.,  0.,  0., -1.,  0.,\n",
       "        0., -1.,  1., -1.,  0., -1., -1., -1.,  1., -1.,  1.,  1.,  0.,\n",
       "       -1., -1.,  0.,  1.,  0., -1.,  0., -1.,  1.,  1., -1., -1., -1.,\n",
       "       -1.,  1.,  1.,  1.,  0.,  0., -1., -1., -1., -1.,  1.,  0.,  1.,\n",
       "        0.,  1.,  0.,  0.,  1., -1.,  0.,  1., -1., -1.,  0., -1., -1.,\n",
       "        1.,  1.,  0.,  0.,  1., -1.,  0.,  0.,  0.,  0., -1.,  0., -1.])"
      ]
     },
     "execution_count": 124,
     "metadata": {},
     "output_type": "execute_result"
    }
   ],
   "source": [
    "y_test"
   ]
  },
  {
   "cell_type": "code",
   "execution_count": 125,
   "metadata": {
    "colab": {
     "base_uri": "https://localhost:8080/",
     "height": 87
    },
    "colab_type": "code",
    "id": "3VCn__Orih_K",
    "outputId": "7ef81a49-639f-4c43-ef96-f9eaec1b8b34"
   },
   "outputs": [
    {
     "name": "stdout",
     "output_type": "stream",
     "text": [
      "Confusion Matrix\n",
      "[[176  17  16]\n",
      " [ 20 113   1]\n",
      " [ 77   3  97]]\n"
     ]
    }
   ],
   "source": [
    "from sklearn.metrics import classification_report, confusion_matrix\n",
    "print('Confusion Matrix')\n",
    "print(confusion_matrix(categorical_y_test.argmax(axis=1), predicted_labels.argmax(axis=1)))"
   ]
  },
  {
   "cell_type": "code",
   "execution_count": 126,
   "metadata": {
    "colab": {},
    "colab_type": "code",
    "id": "0rsWJeSUvWYT"
   },
   "outputs": [
    {
     "data": {
      "text/plain": [
       "array([2, 1, 2, 0, 2, 2, 1, 0, 2, 0, 1, 1, 1, 0, 2, 1, 0, 0, 0, 1, 1, 2,\n",
       "       1, 1, 2, 2, 0, 1, 0, 1, 1, 1, 2, 0, 0, 2, 0, 1, 1, 0, 1, 2, 2, 1,\n",
       "       0, 0, 0, 0, 0, 2, 2, 1, 2, 2, 1, 2, 0, 0, 2, 1, 0, 0, 2, 0, 2, 0,\n",
       "       2, 2, 0, 1, 1, 2, 0, 0, 2, 0, 2, 1, 0, 0, 2, 2, 1, 0, 2, 2, 0, 0,\n",
       "       0, 0, 0, 0, 2, 2, 0, 0, 1, 2, 2, 2, 0, 0, 0, 0, 2, 1, 0, 1, 1, 0,\n",
       "       0, 1, 0, 1, 2, 0, 0, 2, 1, 0, 0, 0, 0, 0, 2, 1, 2, 1, 0, 0, 0, 2,\n",
       "       2, 0, 0, 0, 0, 2, 1, 2, 1, 1, 1, 2, 0, 2, 0, 0, 0, 0, 1, 2, 2, 0,\n",
       "       0, 1, 0, 1, 1, 2, 0, 1, 0, 2, 0, 2, 0, 1, 0, 2, 0, 2, 2, 1, 0, 0,\n",
       "       0, 1, 1, 0, 1, 1, 2, 1, 1, 0, 2, 0, 2, 2, 0, 1, 2, 1, 0, 1, 0, 2,\n",
       "       2, 1, 0, 0, 2, 0, 0, 1, 2, 2, 0, 0, 1, 2, 1, 2, 2, 1, 1, 1, 0, 0,\n",
       "       2, 1, 0, 0, 0, 2, 0, 2, 0, 0, 2, 2, 2, 2, 0, 2, 0, 2, 0, 2, 2, 2,\n",
       "       2, 2, 1, 2, 1, 0, 0, 0, 0, 1, 2, 0, 2, 0, 2, 2, 1, 0, 0, 1, 2, 1,\n",
       "       0, 1, 0, 1, 2, 2, 1, 1, 0, 2, 2, 0, 2, 2, 1, 1, 1, 2, 0, 2, 1, 2,\n",
       "       1, 2, 1, 2, 0, 2, 1, 0, 0, 1, 2, 0, 0, 0, 0, 0, 2, 1, 1, 2, 2, 0,\n",
       "       1, 1, 0, 0, 2, 1, 0, 1, 0, 2, 0, 0, 0, 2, 2, 2, 1, 0, 2, 0, 1, 2,\n",
       "       0, 1, 2, 0, 0, 1, 0, 2, 2, 0, 0, 1, 2, 1, 0, 1, 1, 0, 2, 0, 0, 2,\n",
       "       1, 1, 0, 1, 0, 1, 0, 0, 0, 0, 2, 0, 0, 2, 0, 2, 2, 0, 0, 2, 1, 2,\n",
       "       0, 0, 0, 0, 0, 2, 2, 1, 1, 0, 2, 2, 2, 2, 0, 1, 1, 2, 0, 0, 1, 2,\n",
       "       2, 1, 2, 2, 0, 0, 0, 0, 0, 0, 0, 1, 0, 2, 0, 0, 2, 1, 2, 2, 1, 2,\n",
       "       2, 0, 0, 1, 0, 1, 2, 0, 0, 2, 0, 2, 0, 2, 1, 1, 1, 2, 2, 0, 1, 0,\n",
       "       0, 1, 0, 2, 1, 0, 2, 2, 2, 2, 0, 0, 0, 2, 0, 0, 2, 1, 2, 0, 2, 2,\n",
       "       2, 1, 2, 1, 1, 0, 2, 2, 0, 1, 0, 2, 0, 2, 1, 1, 2, 2, 2, 2, 1, 1,\n",
       "       1, 0, 0, 2, 2, 2, 2, 1, 0, 1, 0, 1, 0, 0, 1, 2, 0, 1, 2, 2, 0, 2,\n",
       "       2, 1, 1, 0, 0, 1, 2, 0, 0, 0, 0, 2, 0, 2])"
      ]
     },
     "execution_count": 126,
     "metadata": {},
     "output_type": "execute_result"
    }
   ],
   "source": [
    "categorical_y_test.argmax(axis=1)"
   ]
  },
  {
   "cell_type": "code",
   "execution_count": 127,
   "metadata": {
    "colab": {},
    "colab_type": "code",
    "id": "CcZTqg1Tvd9m"
   },
   "outputs": [
    {
     "data": {
      "text/plain": [
       "array([0, 1, 0, 0, 0, 2, 0, 0, 2, 0, 0, 1, 1, 0, 2, 1, 0, 0, 0, 1, 1, 0,\n",
       "       1, 1, 0, 2, 0, 0, 2, 0, 1, 1, 2, 0, 1, 2, 0, 1, 1, 0, 0, 2, 1, 1,\n",
       "       0, 0, 2, 0, 1, 0, 2, 1, 1, 0, 1, 2, 0, 0, 2, 1, 0, 0, 0, 0, 0, 0,\n",
       "       1, 2, 0, 1, 1, 0, 0, 0, 2, 0, 2, 0, 0, 0, 2, 0, 1, 0, 2, 2, 0, 0,\n",
       "       2, 0, 0, 0, 2, 0, 0, 1, 1, 0, 2, 2, 0, 0, 0, 0, 2, 1, 0, 0, 0, 0,\n",
       "       0, 0, 0, 1, 2, 0, 0, 2, 1, 2, 1, 1, 0, 0, 2, 1, 0, 0, 0, 0, 0, 2,\n",
       "       2, 0, 0, 0, 0, 0, 1, 2, 1, 1, 1, 0, 0, 2, 0, 0, 0, 0, 1, 0, 2, 0,\n",
       "       0, 1, 0, 1, 1, 2, 0, 1, 0, 0, 0, 0, 1, 1, 0, 2, 0, 2, 2, 1, 2, 0,\n",
       "       0, 1, 0, 0, 1, 1, 0, 0, 1, 0, 0, 0, 2, 2, 2, 1, 0, 1, 2, 1, 0, 2,\n",
       "       2, 1, 0, 0, 2, 0, 1, 1, 2, 0, 0, 0, 0, 2, 1, 2, 2, 1, 1, 1, 0, 0,\n",
       "       0, 1, 0, 0, 0, 0, 0, 0, 0, 0, 2, 2, 0, 2, 0, 2, 0, 0, 0, 0, 0, 0,\n",
       "       0, 2, 1, 2, 1, 0, 0, 2, 0, 2, 0, 0, 0, 0, 0, 0, 1, 0, 0, 1, 0, 1,\n",
       "       0, 1, 0, 1, 2, 2, 1, 1, 0, 2, 2, 0, 2, 2, 1, 1, 1, 2, 0, 0, 1, 2,\n",
       "       1, 2, 1, 2, 0, 0, 1, 0, 0, 1, 2, 0, 0, 0, 0, 0, 0, 1, 1, 0, 0, 0,\n",
       "       1, 1, 0, 0, 0, 1, 0, 1, 0, 0, 1, 1, 1, 0, 2, 2, 1, 0, 2, 2, 1, 2,\n",
       "       0, 1, 2, 0, 0, 0, 0, 0, 2, 0, 0, 1, 0, 0, 0, 0, 1, 0, 2, 1, 2, 0,\n",
       "       1, 0, 0, 1, 0, 1, 0, 2, 0, 0, 2, 0, 0, 0, 0, 0, 2, 0, 0, 0, 1, 2,\n",
       "       0, 0, 0, 0, 0, 2, 0, 1, 1, 1, 2, 0, 2, 2, 0, 1, 1, 0, 0, 1, 1, 2,\n",
       "       0, 1, 2, 2, 1, 0, 0, 0, 2, 0, 1, 1, 0, 0, 0, 0, 0, 1, 0, 0, 1, 2,\n",
       "       2, 0, 0, 1, 0, 1, 2, 0, 0, 0, 0, 2, 0, 0, 1, 1, 1, 2, 2, 2, 1, 0,\n",
       "       0, 1, 0, 0, 1, 0, 2, 0, 2, 0, 0, 0, 0, 2, 0, 0, 0, 1, 2, 0, 2, 0,\n",
       "       0, 0, 2, 1, 1, 0, 0, 0, 2, 1, 0, 2, 2, 0, 1, 1, 0, 0, 0, 0, 1, 1,\n",
       "       0, 0, 1, 2, 2, 0, 2, 0, 0, 1, 0, 1, 0, 2, 1, 2, 0, 1, 0, 2, 0, 2,\n",
       "       2, 1, 1, 1, 0, 1, 0, 0, 0, 0, 0, 2, 0, 2])"
      ]
     },
     "execution_count": 127,
     "metadata": {},
     "output_type": "execute_result"
    }
   ],
   "source": [
    "predicted_labels.argmax(axis=1)"
   ]
  }
 ],
 "metadata": {
  "accelerator": "GPU",
  "colab": {
   "collapsed_sections": [],
   "name": "Alarm prediction pipeline function.ipynb",
   "provenance": []
  },
  "kernelspec": {
   "display_name": "Python 3",
   "language": "python",
   "name": "python3"
  },
  "language_info": {
   "codemirror_mode": {
    "name": "ipython",
    "version": 3
   },
   "file_extension": ".py",
   "mimetype": "text/x-python",
   "name": "python",
   "nbconvert_exporter": "python",
   "pygments_lexer": "ipython3",
   "version": "3.7.9"
  }
 },
 "nbformat": 4,
 "nbformat_minor": 1
}
